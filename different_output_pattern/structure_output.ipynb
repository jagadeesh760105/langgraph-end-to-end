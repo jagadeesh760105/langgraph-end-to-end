{
 "cells": [
  {
   "cell_type": "code",
   "execution_count": 1,
   "metadata": {},
   "outputs": [],
   "source": [
    "from langchain_community.tools.tavily_search import TavilySearchResults\n",
    "from langchain_core.tools import tool\n",
    "from pydantic import BaseModel, Field\n",
    "from langgraph.graph import MessagesState,StateGraph, END\n",
    "from langgraph.prebuilt import ToolNode\n",
    "from langchain_core.messages import HumanMessage"
   ]
  },
  {
   "cell_type": "code",
   "execution_count": 2,
   "metadata": {},
   "outputs": [],
   "source": [
    "from langchain_groq import ChatGroq\n",
    "llm=ChatGroq(model_name=\"Gemma2-9b-It\")"
   ]
  },
  {
   "cell_type": "code",
   "execution_count": 4,
   "metadata": {},
   "outputs": [],
   "source": [
    "tavily_tool = TavilySearchResults()"
   ]
  },
  {
   "cell_type": "code",
   "execution_count": 5,
   "metadata": {},
   "outputs": [],
   "source": [
    "@tool\n",
    "def get_city_details(prompt):\n",
    "    \"Should do a web search to find the required city details\"\n",
    "    response = tavily_tool.invoke(prompt)\n",
    "    return response"
   ]
  },
  {
   "cell_type": "code",
   "execution_count": 6,
   "metadata": {},
   "outputs": [],
   "source": [
    "tools = [get_city_details]"
   ]
  },
  {
   "cell_type": "code",
   "execution_count": 7,
   "metadata": {},
   "outputs": [],
   "source": [
    "model_with_tools = llm.bind_tools(tools)"
   ]
  },
  {
   "cell_type": "code",
   "execution_count": 8,
   "metadata": {},
   "outputs": [],
   "source": [
    "class CityDetails(BaseModel):\n",
    "    \"\"\"Respond to the user with this\"\"\"\n",
    "    state_name: str = Field(description=\"State name of the city\")\n",
    "    state_capital: str = Field(description=\"State capital of the city\")\n",
    "    country_name: str = Field(description=\"Country name of the city\")\n",
    "    country_capital: str = Field(description=\"Country capital of the city\")"
   ]
  },
  {
   "cell_type": "code",
   "execution_count": 9,
   "metadata": {},
   "outputs": [],
   "source": [
    "# Inherit 'messages' key from MessagesState, which is a list of chat messages\n",
    "class AgentState(MessagesState):\n",
    "    # Final structured response from the agent\n",
    "    final_response: CityDetails"
   ]
  },
  {
   "cell_type": "code",
   "execution_count": 10,
   "metadata": {},
   "outputs": [],
   "source": [
    "model_with_structured_output = llm.with_structured_output(CityDetails)"
   ]
  },
  {
   "cell_type": "code",
   "execution_count": 11,
   "metadata": {},
   "outputs": [],
   "source": [
    "def call_model(state: AgentState):\n",
    "    print(f\" this is 01 input from call model {state}\")\n",
    "    response = model_with_tools.invoke(state['messages'])\n",
    "    print(f\"this is 02 response from call model  {response}\")\n",
    "    # We return a list, because this will get added to the existing list\n",
    "    return {\"messages\": [response]}"
   ]
  },
  {
   "cell_type": "code",
   "execution_count": 12,
   "metadata": {},
   "outputs": [],
   "source": [
    "def should_continue(state: AgentState):\n",
    "    messages = state[\"messages\"]\n",
    "    last_message = messages[-1]\n",
    "    \n",
    "    # If there is no function call, then we respond to the user\n",
    "    if not last_message.tool_calls:\n",
    "        return \"respond\"\n",
    "    # Otherwise if there is, we continue with the tool\n",
    "    else:\n",
    "        return \"continue\""
   ]
  },
  {
   "cell_type": "code",
   "execution_count": 13,
   "metadata": {},
   "outputs": [],
   "source": [
    "def respond(state: AgentState):\n",
    "    print(f\"here is 03 state from respond {state}\")\n",
    "    response = model_with_structured_output.invoke([HumanMessage(content=state['messages'][-1].content)])\n",
    "    # We return the final answer\n",
    "    print(f\"this is 04 response from respond{response}\")\n",
    "    return {\"final_response\": response}"
   ]
  },
  {
   "cell_type": "code",
   "execution_count": 14,
   "metadata": {},
   "outputs": [],
   "source": [
    "# Define a new graph\n",
    "workflow = StateGraph(AgentState)\n",
    "\n",
    "# Define the two nodes we will cycle between\n",
    "workflow.add_node(\"llm\", call_model)\n",
    "workflow.add_node(\"tools\", ToolNode(tools))\n",
    "workflow.add_node(\"respond\", respond)\n",
    "\n",
    "\n",
    "# Set the entrypoint as `agent`\n",
    "# This means that this node is the first one called\n",
    "workflow.set_entry_point(\"llm\")\n",
    "\n",
    "# We now add a conditional edge\n",
    "workflow.add_conditional_edges(\n",
    "    \"llm\",\n",
    "    \n",
    "    should_continue,\n",
    "    {\n",
    "        \"continue\": \"tools\",\n",
    "        \"respond\": \"respond\",\n",
    "    },\n",
    ")\n",
    "\n",
    "workflow.add_edge(\"tools\", \"llm\")\n",
    "workflow.add_edge(\"respond\", END)\n",
    "graph = workflow.compile()"
   ]
  },
  {
   "cell_type": "code",
   "execution_count": 15,
   "metadata": {},
   "outputs": [
    {
     "data": {
      "image/png": "[encoded data removed]",
      "text/plain": [
       "<IPython.core.display.Image object>"
      ]
     },
     "metadata": {},
     "output_type": "display_data"
    }
   ],
   "source": [
    "from IPython.display import Image, display\n",
    "# View\n",
    "display(Image(graph.get_graph().draw_mermaid_png()))"
   ]
  },
  {
   "cell_type": "code",
   "execution_count": 16,
   "metadata": {},
   "outputs": [
    {
     "name": "stdout",
     "output_type": "stream",
     "text": [
      " this is 01 input from call model {'messages': [HumanMessage(content='Tell me about the city details for gwalior?', additional_kwargs={}, response_metadata={}, id='c62b1652-66b6-4a51-b625-e5ebff8e6a99')]}\n",
      "this is 02 response from call model  content='' additional_kwargs={'tool_calls': [{'id': 'call_8adk', 'function': {'arguments': '{\"prompt\":\"gwalior\"}', 'name': 'get_city_details'}, 'type': 'function'}]} response_metadata={'token_usage': {'completion_tokens': 86, 'prompt_tokens': 946, 'total_tokens': 1032, 'completion_time': 0.156363636, 'prompt_time': 0.034050381, 'queue_time': 0.23136293500000002, 'total_time': 0.190414017}, 'model_name': 'Gemma2-9b-It', 'system_fingerprint': 'fp_10c08bf97d', 'finish_reason': 'tool_calls', 'logprobs': None} id='run-78b94b13-36c8-45d1-bbcf-acf97d34b3b5-0' tool_calls=[{'name': 'get_city_details', 'args': {'prompt': 'gwalior'}, 'id': 'call_8adk', 'type': 'tool_call'}] usage_metadata={'input_tokens': 946, 'output_tokens': 86, 'total_tokens': 1032}\n",
      " this is 01 input from call model {'messages': [HumanMessage(content='Tell me about the city details for gwalior?', additional_kwargs={}, response_metadata={}, id='c62b1652-66b6-4a51-b625-e5ebff8e6a99'), AIMessage(content='', additional_kwargs={'tool_calls': [{'id': 'call_8adk', 'function': {'arguments': '{\"prompt\":\"gwalior\"}', 'name': 'get_city_details'}, 'type': 'function'}]}, response_metadata={'token_usage': {'completion_tokens': 86, 'prompt_tokens': 946, 'total_tokens': 1032, 'completion_time': 0.156363636, 'prompt_time': 0.034050381, 'queue_time': 0.23136293500000002, 'total_time': 0.190414017}, 'model_name': 'Gemma2-9b-It', 'system_fingerprint': 'fp_10c08bf97d', 'finish_reason': 'tool_calls', 'logprobs': None}, id='run-78b94b13-36c8-45d1-bbcf-acf97d34b3b5-0', tool_calls=[{'name': 'get_city_details', 'args': {'prompt': 'gwalior'}, 'id': 'call_8adk', 'type': 'tool_call'}], usage_metadata={'input_tokens': 946, 'output_tokens': 86, 'total_tokens': 1032}), ToolMessage(content='[{\"title\": \"Gwalior - Wikipedia\", \"url\": \"https://en.wikipedia.org/wiki/Gwalior\", \"content\": \"Gwalior (Hindi: IPA: [ɡʋɑːlɪjəɾ], pronunciationⓘ) is a major city in the central Indian state of Madhya Pradesh; It is known as the City of Music of India[5] having oldest musical gharana in existence. It is a major sports, cultural, industrial, and political centre in Madhya Pradesh. Gwalior is among the seven cities selected for new startup centres under India\\'s growing innovation ecosystem.[6] It lies in northern part of Madhya Pradesh and is one of the Counter-magnet cities. Located 313 [...] Gwalior is one of the major commercial railway stations of the North Central Railway, whose zone headquarters is centred in Prayagraj. The station has won awards from Indian Railways for excellent clean infrastructure in 1987, 1988, 1989 and 1992. It is in the Adarsh Station Category of Indian Railways. [...] Gwalior was one of the major locations of rebellion during the 1857 uprising. Post-independence, Gwalior has emerged as an important industrial and tourist attraction in central India while many industries and administrative offices came up within the city. Before the end of the 20th century it became a million plus agglomeration and now it is a metropolitan city in central India. Gwalior is surrounded by industrial and commercial zones of neighbouring districts (Malanpur – Bhind, Banmore –\", \"score\": 0.90965873}, {\"title\": \"Gwalior | History, Culture & Tourist Attractions - Britannica\", \"url\": \"https://www.britannica.com/place/Gwalior-India\", \"content\": \"Gwalior, Madhya Pradesh, India(more)\\\\nGwalior, city, northern Madhya Pradesh state, central India. It is situated about 75 miles (120 km) south of Agra. Gwalior is a cultural, industrial, and political centre and takes its name from the historic rock fortress that forms the centre of the city. It has been referred to as Gopa Parvat, Gopachal Durg, Gopagiri, and Gopadiri, all which mean “cowherd’s hill.” Pop. (2001) 827,026; (2011) 1,069,276.\\\\nHistory [...] Gwalior is an important commercial and industrial centre that is engaged in the distribution of agricultural produce, cloth fabrics, building stone, and iron ore. The city’s major industries include the manufacture of footwear, pottery, biscuits (cookies), cigarettes, textiles, carpets, plastics, rayon, glass, and matches; cotton, flour, sugar, and oilseed milling; and stone carving. It is on a major national highway, is a railway junction, and has an airport handling domestic flights. [...] Other places of interest in Gwalior include a zoological garden, several museums, a central technical institute, and an industrial research laboratory. Gwalior is the seat of Jiwaji University (founded 1964) with several affiliated colleges in the city, including science, medical, and education schools. Nearby is the 16th-century tomb of the Indian singer Tansen. The city is still a music centre, with its own distinctive style and tradition.\", \"score\": 0.83742094}, {\"title\": \"Must-Visit Tourist Places in Gwalior (2025) | MPTourism\", \"url\": \"https://www.mptourism.com/destination-gwalior.php\", \"content\": \"The history of Gwalior can be traced from the legend of eighth century AD, about a chieftain, Suraj Sen who contracted leprosy and was cured by the hermit-saint Gwalipa. He established this city in his honour as a mark of gratitude for the incident. Over the years, the newly established city, Gwalior came into existence. Gwalior has been the birthplace of many powerful dynasties. The city took on a new dimension as a result of the warrior kings, poets, artists, and saints who helped it become\", \"score\": 0.72907686}, {\"title\": \"Gwalior, India: All You Must Know Before You Go (2025) - Tripadvisor\", \"url\": \"https://www.tripadvisor.com/Tourism-g667810-Gwalior_Gwalior_District_Madhya_Pradesh-Vacations.html\", \"content\": \"Gwalior is known for some of its popular attractions, which include: Bateswar group of temples - Morena Gwailor · Gwalior Fort · Gurudwara Data Bandi Chhod\", \"score\": 0.69672287}]', name='get_city_details', id='dd04109c-5286-4670-ae66-8ce4aa0ccce8', tool_call_id='call_8adk')]}\n",
      "this is 02 response from call model  content=\"Gwalior is a major city in central India, known as the City of Music of India. It's a significant cultural, industrial, and political center in Madhya Pradesh.  \\n\" additional_kwargs={} response_metadata={'token_usage': {'completion_tokens': 40, 'prompt_tokens': 2074, 'total_tokens': 2114, 'completion_time': 0.072727273, 'prompt_time': 0.103279809, 'queue_time': 0.241800501, 'total_time': 0.176007082}, 'model_name': 'Gemma2-9b-It', 'system_fingerprint': 'fp_10c08bf97d', 'finish_reason': 'stop', 'logprobs': None} id='run-dc9d6907-3e41-46c3-a5f7-5b1fe08cc788-0' usage_metadata={'input_tokens': 2074, 'output_tokens': 40, 'total_tokens': 2114}\n",
      "here is 03 state from respond {'messages': [HumanMessage(content='Tell me about the city details for gwalior?', additional_kwargs={}, response_metadata={}, id='c62b1652-66b6-4a51-b625-e5ebff8e6a99'), AIMessage(content='', additional_kwargs={'tool_calls': [{'id': 'call_8adk', 'function': {'arguments': '{\"prompt\":\"gwalior\"}', 'name': 'get_city_details'}, 'type': 'function'}]}, response_metadata={'token_usage': {'completion_tokens': 86, 'prompt_tokens': 946, 'total_tokens': 1032, 'completion_time': 0.156363636, 'prompt_time': 0.034050381, 'queue_time': 0.23136293500000002, 'total_time': 0.190414017}, 'model_name': 'Gemma2-9b-It', 'system_fingerprint': 'fp_10c08bf97d', 'finish_reason': 'tool_calls', 'logprobs': None}, id='run-78b94b13-36c8-45d1-bbcf-acf97d34b3b5-0', tool_calls=[{'name': 'get_city_details', 'args': {'prompt': 'gwalior'}, 'id': 'call_8adk', 'type': 'tool_call'}], usage_metadata={'input_tokens': 946, 'output_tokens': 86, 'total_tokens': 1032}), ToolMessage(content='[{\"title\": \"Gwalior - Wikipedia\", \"url\": \"https://en.wikipedia.org/wiki/Gwalior\", \"content\": \"Gwalior (Hindi: IPA: [ɡʋɑːlɪjəɾ], pronunciationⓘ) is a major city in the central Indian state of Madhya Pradesh; It is known as the City of Music of India[5] having oldest musical gharana in existence. It is a major sports, cultural, industrial, and political centre in Madhya Pradesh. Gwalior is among the seven cities selected for new startup centres under India\\'s growing innovation ecosystem.[6] It lies in northern part of Madhya Pradesh and is one of the Counter-magnet cities. Located 313 [...] Gwalior is one of the major commercial railway stations of the North Central Railway, whose zone headquarters is centred in Prayagraj. The station has won awards from Indian Railways for excellent clean infrastructure in 1987, 1988, 1989 and 1992. It is in the Adarsh Station Category of Indian Railways. [...] Gwalior was one of the major locations of rebellion during the 1857 uprising. Post-independence, Gwalior has emerged as an important industrial and tourist attraction in central India while many industries and administrative offices came up within the city. Before the end of the 20th century it became a million plus agglomeration and now it is a metropolitan city in central India. Gwalior is surrounded by industrial and commercial zones of neighbouring districts (Malanpur – Bhind, Banmore –\", \"score\": 0.90965873}, {\"title\": \"Gwalior | History, Culture & Tourist Attractions - Britannica\", \"url\": \"https://www.britannica.com/place/Gwalior-India\", \"content\": \"Gwalior, Madhya Pradesh, India(more)\\\\nGwalior, city, northern Madhya Pradesh state, central India. It is situated about 75 miles (120 km) south of Agra. Gwalior is a cultural, industrial, and political centre and takes its name from the historic rock fortress that forms the centre of the city. It has been referred to as Gopa Parvat, Gopachal Durg, Gopagiri, and Gopadiri, all which mean “cowherd’s hill.” Pop. (2001) 827,026; (2011) 1,069,276.\\\\nHistory [...] Gwalior is an important commercial and industrial centre that is engaged in the distribution of agricultural produce, cloth fabrics, building stone, and iron ore. The city’s major industries include the manufacture of footwear, pottery, biscuits (cookies), cigarettes, textiles, carpets, plastics, rayon, glass, and matches; cotton, flour, sugar, and oilseed milling; and stone carving. It is on a major national highway, is a railway junction, and has an airport handling domestic flights. [...] Other places of interest in Gwalior include a zoological garden, several museums, a central technical institute, and an industrial research laboratory. Gwalior is the seat of Jiwaji University (founded 1964) with several affiliated colleges in the city, including science, medical, and education schools. Nearby is the 16th-century tomb of the Indian singer Tansen. The city is still a music centre, with its own distinctive style and tradition.\", \"score\": 0.83742094}, {\"title\": \"Must-Visit Tourist Places in Gwalior (2025) | MPTourism\", \"url\": \"https://www.mptourism.com/destination-gwalior.php\", \"content\": \"The history of Gwalior can be traced from the legend of eighth century AD, about a chieftain, Suraj Sen who contracted leprosy and was cured by the hermit-saint Gwalipa. He established this city in his honour as a mark of gratitude for the incident. Over the years, the newly established city, Gwalior came into existence. Gwalior has been the birthplace of many powerful dynasties. The city took on a new dimension as a result of the warrior kings, poets, artists, and saints who helped it become\", \"score\": 0.72907686}, {\"title\": \"Gwalior, India: All You Must Know Before You Go (2025) - Tripadvisor\", \"url\": \"https://www.tripadvisor.com/Tourism-g667810-Gwalior_Gwalior_District_Madhya_Pradesh-Vacations.html\", \"content\": \"Gwalior is known for some of its popular attractions, which include: Bateswar group of temples - Morena Gwailor · Gwalior Fort · Gurudwara Data Bandi Chhod\", \"score\": 0.69672287}]', name='get_city_details', id='dd04109c-5286-4670-ae66-8ce4aa0ccce8', tool_call_id='call_8adk'), AIMessage(content=\"Gwalior is a major city in central India, known as the City of Music of India. It's a significant cultural, industrial, and political center in Madhya Pradesh.  \\n\", additional_kwargs={}, response_metadata={'token_usage': {'completion_tokens': 40, 'prompt_tokens': 2074, 'total_tokens': 2114, 'completion_time': 0.072727273, 'prompt_time': 0.103279809, 'queue_time': 0.241800501, 'total_time': 0.176007082}, 'model_name': 'Gemma2-9b-It', 'system_fingerprint': 'fp_10c08bf97d', 'finish_reason': 'stop', 'logprobs': None}, id='run-dc9d6907-3e41-46c3-a5f7-5b1fe08cc788-0', usage_metadata={'input_tokens': 2074, 'output_tokens': 40, 'total_tokens': 2114})]}\n",
      "this is 04 response from respondstate_name='Madhya Pradesh' state_capital='Bhopal' country_name='India' country_capital='New Delhi'\n"
     ]
    }
   ],
   "source": [
    "answer = graph.invoke(input={\"messages\": [(\"human\", \"Tell me about the city details for gwalior?\")]})['final_response']"
   ]
  },
  {
   "cell_type": "code",
   "execution_count": 17,
   "metadata": {},
   "outputs": [
    {
     "data": {
      "text/plain": [
       "CityDetails(state_name='Madhya Pradesh', state_capital='Bhopal', country_name='India', country_capital='New Delhi')"
      ]
     },
     "execution_count": 17,
     "metadata": {},
     "output_type": "execute_result"
    }
   ],
   "source": [
    "answer"
   ]
  },
  {
   "cell_type": "code",
   "execution_count": null,
   "metadata": {},
   "outputs": [],
   "source": []
  }
 ],
 "metadata": {
  "kernelspec": {
   "display_name": "venv (3.12.5)",
   "language": "python",
   "name": "python3"
  },
  "language_info": {
   "codemirror_mode": {
    "name": "ipython",
    "version": 3
   },
   "file_extension": ".py",
   "mimetype": "text/x-python",
   "name": "python",
   "nbconvert_exporter": "python",
   "pygments_lexer": "ipython3",
   "version": "3.12.5"
  }
 },
 "nbformat": 4,
 "nbformat_minor": 2
}
