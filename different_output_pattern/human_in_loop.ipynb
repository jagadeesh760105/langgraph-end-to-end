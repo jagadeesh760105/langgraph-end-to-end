{
 "cells": [
  {
   "cell_type": "code",
   "execution_count": 1,
   "id": "df6fbd43",
   "metadata": {},
   "outputs": [],
   "source": [
    "import os\n",
    "from dotenv import load_dotenv\n",
    "load_dotenv()\n",
    "\n",
    "\n",
    "GROQ_API_KEY=os.getenv(\"GROQ_API_KEY\")\n",
    "TAVILY_API_KEY=os.getenv(\"TAVILY_API_KEY\")\n",
    "\n",
    "os.environ[\"TAVILY_API_KEY\"] = TAVILY_API_KEY\n",
    "os.environ[\"GROQ_API_KEY\"]= GROQ_API_KEY\n"
   ]
  },
  {
   "cell_type": "code",
   "execution_count": 2,
   "id": "87311465",
   "metadata": {},
   "outputs": [],
   "source": [
    "from typing import Annotated\n",
    "import operator,json\n",
    "from typing import TypedDict, Annotated, Sequence\n",
    "from typing_extensions import TypedDict\n",
    "from langchain_core.messages import BaseMessage\n",
    "from langgraph.checkpoint.memory import MemorySaver\n",
    "from langgraph.graph import StateGraph,END,START\n",
    "from langgraph.graph.message import add_messages\n",
    "from langgraph.prebuilt import ToolNode, tools_condition\n",
    "from langchain_core.tools import tool\n",
    "from langchain_community.tools.tavily_search import TavilySearchResults"
   ]
  },
  {
   "cell_type": "code",
   "execution_count": 3,
   "id": "1eaf6336",
   "metadata": {},
   "outputs": [],
   "source": [
    "from langchain_groq import ChatGroq\n",
    "llm=ChatGroq(model_name=\"Gemma2-9b-It\")"
   ]
  },
  {
   "cell_type": "code",
   "execution_count": 4,
   "id": "5a459101",
   "metadata": {},
   "outputs": [
    {
     "data": {
      "text/plain": [
       "'Hi! 👋 \\n\\nWhat can I do for you today?\\n'"
      ]
     },
     "execution_count": 4,
     "metadata": {},
     "output_type": "execute_result"
    }
   ],
   "source": [
    "llm.invoke(\"hi\").content"
   ]
  },
  {
   "cell_type": "code",
   "execution_count": 5,
   "id": "386909db",
   "metadata": {},
   "outputs": [],
   "source": [
    "@tool\n",
    "def multiply(first_number:int, second_number:int)->int:\n",
    "    \"\"\"multiply two integer number\"\"\"\n",
    "    return first_number * second_number"
   ]
  },
  {
   "cell_type": "code",
   "execution_count": 6,
   "id": "2705910d",
   "metadata": {},
   "outputs": [
    {
     "name": "stderr",
     "output_type": "stream",
     "text": [
      "C:\\Users\\JAGADEESHNAIKPALTHYA\\AppData\\Local\\Temp\\ipykernel_12840\\2089873997.py:1: LangChainDeprecationWarning: The method `BaseTool.__call__` was deprecated in langchain-core 0.1.47 and will be removed in 1.0. Use :meth:`~invoke` instead.\n",
      "  multiply({\"first_number\":24,\"second_number\":364})\n"
     ]
    },
    {
     "data": {
      "text/plain": [
       "8736"
      ]
     },
     "execution_count": 6,
     "metadata": {},
     "output_type": "execute_result"
    }
   ],
   "source": [
    "multiply({\"first_number\":24,\"second_number\":364})"
   ]
  },
  {
   "cell_type": "code",
   "execution_count": 7,
   "id": "3221919f",
   "metadata": {},
   "outputs": [
    {
     "data": {
      "text/plain": [
       "8736"
      ]
     },
     "execution_count": 7,
     "metadata": {},
     "output_type": "execute_result"
    }
   ],
   "source": [
    "multiply.invoke({\"first_number\":24,\"second_number\":364})"
   ]
  },
  {
   "cell_type": "code",
   "execution_count": 8,
   "id": "0022c607",
   "metadata": {},
   "outputs": [],
   "source": [
    "@tool\n",
    "def search(query:str):\n",
    "    \"\"\"perform the web search on the user query\"\"\"\n",
    "    tavily=TavilySearchResults()\n",
    "    result=tavily.invoke(query)\n",
    "    return result"
   ]
  },
  {
   "cell_type": "code",
   "execution_count": 9,
   "id": "e23bbe70",
   "metadata": {},
   "outputs": [
    {
     "data": {
      "text/plain": [
       "[{'title': 'Presidents, vice presidents, and first ladies | USAGov',\n",
       "  'url': 'https://www.usa.gov/presidents',\n",
       "  'content': \"Current president\\nThe 47th and current president of the United States is Donald John Trump.\\xa0He was sworn into office on January 20, 2025.\\nFormer U.S. presidents\\nThe United States has had 46 former U.S. presidents. Read about past presidents and vice presidents.\\nMany former presidents have presidential libraries and museums you can visit to learn about their lives and their time in office. Find presidential libraries and museums.\\nRequirements to be eligible to become president [...] Current first lady\\nThe current first lady of the United States is Melania Trump.\\nFormer first ladies\\nFind a list of former first ladies and their presidential spouses.\\nSee the Smithsonian Institution's virtual tour of first ladies' inaugural ball gowns and other artifacts.\\nHow to contact the president, vice president, and first lady\\nThe president, vice president, and first lady do not have public, direct telephone numbers. The telephone number for the White House comment line is 202-456-1111. [...] The 50th and current vice president of the United States is James David (JD) Vance. He was sworn in on January 20, 2025\\nFormer vice presidents\\nRead about past presidents and vice presidents.\\nFirst lady\\nThe First lady of the United States has traditionally been the wife or other close female relative of the president of the United States. First ladies:\",\n",
       "  'score': 0.8865877},\n",
       " {'title': 'List of presidents of the United States - Wikipedia',\n",
       "  'url': 'https://en.wikipedia.org/wiki/List_of_presidents_of_the_United_States',\n",
       "  'content': 'John F. Kennedy (1961–1963)\\nLyndon B. Johnson (1963–1969)\\nRichard Nixon (1969–1974)\\nGerald Ford (1974–1977)\\nJimmy Carter (1977–1981)\\nRonald Reagan (1981–1989)\\nGeorge H. W. Bush (1989–1993)\\nBill Clinton (1993–2001)\\nGeorge W. Bush (2001–2009)\\nBarack Obama (2009–2017)\\nDonald Trump (2017–2021)\\nJoe Biden (2021–2025)\\nDonald Trump (2025–present) [...] The president of the United States is the head of state and head of government of the United States,[1] indirectly elected to a four-year term via the Electoral College.[2] Under the U.S. Constitution, the officeholder leads the executive branch of the federal government and is the commander-in-chief of the United States Armed Forces.[3] The first president, George Washington, won a unanimous vote of the Electoral College.[4] The incumbent president is Donald Trump, who assumed office on [...] January 20, 2025.[5][6] Since the office was established in 1789, 45 men have served in 47 presidencies; the discrepancy arises from two individuals elected to non-consecutive terms: Grover Cleveland is counted as the 22nd and 24th president of the United States, while Donald Trump is counted as the 45th and 47th president.[7][8]',\n",
       "  'score': 0.8184036},\n",
       " {'title': 'President of the United States - U.S. Embassy & Consulates in India',\n",
       "  'url': 'https://in.usembassy.gov/our-relationship/the-president-of-the-united-states/',\n",
       "  'content': 'President of the United States\\nHome मुखपृष्ठ | Our Relationship | President of the United States\\n\\nPresident Donald J. Trump\\nDonald J. Trump serves as the 47th President of the United States. He also served as the 45th.\\nRead the President’s full biography.\\nVisit The White House Website\\nNews, issues, and photos of the President\\nU.S. Embassy in India',\n",
       "  'score': 0.7795405},\n",
       " {'title': 'President of the United States - Wikipedia',\n",
       "  'url': 'https://en.wikipedia.org/wiki/President_of_the_United_States',\n",
       "  'content': \"The president is elected indirectly through the Electoral College to a four-year term, along with the vice president. Under the Twenty-second Amendment, ratified in 1951, no person who has been elected to two presidential terms may be elected to a third. In addition, nine vice presidents have become president by virtue of a president's intra-term death or resignation.[C] In all, 45 individuals have served 47 presidencies spanning 60 four-year terms.[D] Donald Trump is the 47th and current [...] After the Cold War, the United States became the world's undisputed leading power.[61] Bill Clinton, George W. Bush, and Barack Obama each served two terms as president. Meanwhile, the nation gradually became more politically polarized, leading to the ascendency of increasingly polarized Congressmembers, especially following the 1994 mid-term elections which saw Republicans control the House for the first time in 40 years, and the rise of routine filibusters in the Senate.[62] Recent presidents [...] (2004) and Trump (2024) were later re-elected, winning both in the Electoral College and the popular vote.\",\n",
       "  'score': 0.7672197},\n",
       " {'title': 'List of USA presidents from George Washington to Donald Trump',\n",
       "  'url': 'https://timesofindia.indiatimes.com/world/us/list-of-presidents-of-us/featureshow/115011630.cms',\n",
       "  'content': 'No. | US President Name | Term start | Term end | Party | Election(s) | Vice President(s)\\n47th | Donald Trump | January 20,2025 | Present | Republican | 2024 | Kamala Harris\\n46th | Joe Biden | January 20, 2021 | Incumbent | Democratic | 2020 | Kamala Harris\\n45th | Donald Trump | January 20, 2017 | January 20, 2021 | Republican | 2016 | Mike Pence\\n44th | Barack Obama | January 20, 2009 | January 20, 2017 | Democratic | 2008, 2012 | Joe Biden [...] 43rd | George W. Bush | January 20, 2001 | January 20, 2009 | Republican | 2000, 2004 | Dick Cheney\\n42nd | Bill Clinton | January 20, 1993 | January 20, 2001 | Democratic | 1992, 1996 | Al Gore\\n41st | George H. W. Bush | January 20, 1989 | January 20, 1993 | Republican | 1988 | Dan Quayle\\n40th | Ronald Reagan | January 20, 1981 | January 20, 1989 | Republican | 1980, 1984 | George H. W. Bush\\n39th | Jimmy Carter | January 20, 1977 | January 20, 1981 | Democratic | 1976 | Walter Mondale [...] US President Donald Trump’s announcement of reciprocal tariffs revealed discrepancies between the displayed charts and the White House annexure. The White House has now amended the annex to match the lower rates initially shown. The revised rates will impact numerous countries with differential tariffs being applied from April 5.',\n",
       "  'score': 0.75312227}]"
      ]
     },
     "execution_count": 9,
     "metadata": {},
     "output_type": "execute_result"
    }
   ],
   "source": [
    "search(\"who is a current president of USA?\")"
   ]
  },
  {
   "cell_type": "code",
   "execution_count": 10,
   "id": "69b15c01",
   "metadata": {},
   "outputs": [
    {
     "data": {
      "text/plain": [
       "[{'title': 'Presidents, vice presidents, and first ladies | USAGov',\n",
       "  'url': 'https://www.usa.gov/presidents',\n",
       "  'content': \"Current president\\nThe 47th and current president of the United States is Donald John Trump.\\xa0He was sworn into office on January 20, 2025.\\nFormer U.S. presidents\\nThe United States has had 46 former U.S. presidents. Read about past presidents and vice presidents.\\nMany former presidents have presidential libraries and museums you can visit to learn about their lives and their time in office. Find presidential libraries and museums.\\nRequirements to be eligible to become president [...] Current first lady\\nThe current first lady of the United States is Melania Trump.\\nFormer first ladies\\nFind a list of former first ladies and their presidential spouses.\\nSee the Smithsonian Institution's virtual tour of first ladies' inaugural ball gowns and other artifacts.\\nHow to contact the president, vice president, and first lady\\nThe president, vice president, and first lady do not have public, direct telephone numbers. The telephone number for the White House comment line is 202-456-1111. [...] The 50th and current vice president of the United States is James David (JD) Vance. He was sworn in on January 20, 2025\\nFormer vice presidents\\nRead about past presidents and vice presidents.\\nFirst lady\\nThe First lady of the United States has traditionally been the wife or other close female relative of the president of the United States. First ladies:\",\n",
       "  'score': 0.8865877},\n",
       " {'title': 'List of presidents of the United States - Wikipedia',\n",
       "  'url': 'https://en.wikipedia.org/wiki/List_of_presidents_of_the_United_States',\n",
       "  'content': 'John F. Kennedy (1961–1963)\\nLyndon B. Johnson (1963–1969)\\nRichard Nixon (1969–1974)\\nGerald Ford (1974–1977)\\nJimmy Carter (1977–1981)\\nRonald Reagan (1981–1989)\\nGeorge H. W. Bush (1989–1993)\\nBill Clinton (1993–2001)\\nGeorge W. Bush (2001–2009)\\nBarack Obama (2009–2017)\\nDonald Trump (2017–2021)\\nJoe Biden (2021–2025)\\nDonald Trump (2025–present) [...] The president of the United States is the head of state and head of government of the United States,[1] indirectly elected to a four-year term via the Electoral College.[2] Under the U.S. Constitution, the officeholder leads the executive branch of the federal government and is the commander-in-chief of the United States Armed Forces.[3] The first president, George Washington, won a unanimous vote of the Electoral College.[4] The incumbent president is Donald Trump, who assumed office on [...] January 20, 2025.[5][6] Since the office was established in 1789, 45 men have served in 47 presidencies; the discrepancy arises from two individuals elected to non-consecutive terms: Grover Cleveland is counted as the 22nd and 24th president of the United States, while Donald Trump is counted as the 45th and 47th president.[7][8]',\n",
       "  'score': 0.8184036},\n",
       " {'title': 'President of the United States - U.S. Embassy & Consulates in India',\n",
       "  'url': 'https://in.usembassy.gov/our-relationship/the-president-of-the-united-states/',\n",
       "  'content': 'President of the United States\\nHome मुखपृष्ठ | Our Relationship | President of the United States\\n\\nPresident Donald J. Trump\\nDonald J. Trump serves as the 47th President of the United States. He also served as the 45th.\\nRead the President’s full biography.\\nVisit The White House Website\\nNews, issues, and photos of the President\\nU.S. Embassy in India',\n",
       "  'score': 0.7795405},\n",
       " {'title': 'President of the United States - Wikipedia',\n",
       "  'url': 'https://en.wikipedia.org/wiki/President_of_the_United_States',\n",
       "  'content': \"The president is elected indirectly through the Electoral College to a four-year term, along with the vice president. Under the Twenty-second Amendment, ratified in 1951, no person who has been elected to two presidential terms may be elected to a third. In addition, nine vice presidents have become president by virtue of a president's intra-term death or resignation.[C] In all, 45 individuals have served 47 presidencies spanning 60 four-year terms.[D] Donald Trump is the 47th and current [...] After the Cold War, the United States became the world's undisputed leading power.[61] Bill Clinton, George W. Bush, and Barack Obama each served two terms as president. Meanwhile, the nation gradually became more politically polarized, leading to the ascendency of increasingly polarized Congressmembers, especially following the 1994 mid-term elections which saw Republicans control the House for the first time in 40 years, and the rise of routine filibusters in the Senate.[62] Recent presidents [...] (2004) and Trump (2024) were later re-elected, winning both in the Electoral College and the popular vote.\",\n",
       "  'score': 0.7672197},\n",
       " {'title': 'List of USA presidents from George Washington to Donald Trump',\n",
       "  'url': 'https://timesofindia.indiatimes.com/world/us/list-of-presidents-of-us/featureshow/115011630.cms',\n",
       "  'content': 'No. | US President Name | Term start | Term end | Party | Election(s) | Vice President(s)\\n47th | Donald Trump | January 20,2025 | Present | Republican | 2024 | Kamala Harris\\n46th | Joe Biden | January 20, 2021 | Incumbent | Democratic | 2020 | Kamala Harris\\n45th | Donald Trump | January 20, 2017 | January 20, 2021 | Republican | 2016 | Mike Pence\\n44th | Barack Obama | January 20, 2009 | January 20, 2017 | Democratic | 2008, 2012 | Joe Biden [...] 43rd | George W. Bush | January 20, 2001 | January 20, 2009 | Republican | 2000, 2004 | Dick Cheney\\n42nd | Bill Clinton | January 20, 1993 | January 20, 2001 | Democratic | 1992, 1996 | Al Gore\\n41st | George H. W. Bush | January 20, 1989 | January 20, 1993 | Republican | 1988 | Dan Quayle\\n40th | Ronald Reagan | January 20, 1981 | January 20, 1989 | Republican | 1980, 1984 | George H. W. Bush\\n39th | Jimmy Carter | January 20, 1977 | January 20, 1981 | Democratic | 1976 | Walter Mondale [...] US President Donald Trump’s announcement of reciprocal tariffs revealed discrepancies between the displayed charts and the White House annexure. The White House has now amended the annex to match the lower rates initially shown. The revised rates will impact numerous countries with differential tariffs being applied from April 5.',\n",
       "  'score': 0.75312227}]"
      ]
     },
     "execution_count": 10,
     "metadata": {},
     "output_type": "execute_result"
    }
   ],
   "source": [
    "search.invoke(\"who is a current president of USA?\")"
   ]
  },
  {
   "cell_type": "code",
   "execution_count": 11,
   "id": "47b76bca",
   "metadata": {},
   "outputs": [],
   "source": [
    "tools=[search,multiply]"
   ]
  },
  {
   "cell_type": "code",
   "execution_count": 12,
   "id": "73f5bf2e",
   "metadata": {},
   "outputs": [],
   "source": [
    "model_with_tools = llm.bind_tools(tools)"
   ]
  },
  {
   "cell_type": "code",
   "execution_count": 13,
   "id": "c83b3572",
   "metadata": {},
   "outputs": [],
   "source": [
    "tool_mapping={tool.name: tool for tool in tools}"
   ]
  },
  {
   "cell_type": "code",
   "execution_count": 14,
   "id": "789c90e3",
   "metadata": {},
   "outputs": [
    {
     "data": {
      "text/plain": [
       "{'search': StructuredTool(name='search', description='perform the web search on the user query', args_schema=<class 'langchain_core.utils.pydantic.search'>, func=<function search at 0x00000253918CB2E0>),\n",
       " 'multiply': StructuredTool(name='multiply', description='multiply two integer number', args_schema=<class 'langchain_core.utils.pydantic.multiply'>, func=<function multiply at 0x00000253918CB060>)}"
      ]
     },
     "execution_count": 14,
     "metadata": {},
     "output_type": "execute_result"
    }
   ],
   "source": [
    "tool_mapping"
   ]
  },
  {
   "cell_type": "code",
   "execution_count": 15,
   "id": "d6183b20",
   "metadata": {},
   "outputs": [],
   "source": [
    "response = model_with_tools.invoke(\"who is a current president of USA?\")"
   ]
  },
  {
   "cell_type": "code",
   "execution_count": 16,
   "id": "445ffdd9",
   "metadata": {},
   "outputs": [
    {
     "data": {
      "text/plain": [
       "AIMessage(content='', additional_kwargs={'tool_calls': [{'id': 'call_955n', 'function': {'arguments': '{\"query\":\"who is the current president of the USA\"}', 'name': 'search'}, 'type': 'function'}]}, response_metadata={'token_usage': {'completion_tokens': 86, 'prompt_tokens': 1076, 'total_tokens': 1162, 'completion_time': 0.156363636, 'prompt_time': 0.077508179, 'queue_time': 0.264320249, 'total_time': 0.233871815}, 'model_name': 'Gemma2-9b-It', 'system_fingerprint': 'fp_10c08bf97d', 'finish_reason': 'tool_calls', 'logprobs': None}, id='run-99ad6e80-633c-49fb-a5fc-edfbc68131fb-0', tool_calls=[{'name': 'search', 'args': {'query': 'who is the current president of the USA'}, 'id': 'call_955n', 'type': 'tool_call'}], usage_metadata={'input_tokens': 1076, 'output_tokens': 86, 'total_tokens': 1162})"
      ]
     },
     "execution_count": 16,
     "metadata": {},
     "output_type": "execute_result"
    }
   ],
   "source": [
    "response"
   ]
  },
  {
   "cell_type": "code",
   "execution_count": 17,
   "id": "cc66731b",
   "metadata": {},
   "outputs": [],
   "source": [
    "tool_details=response.additional_kwargs.get(\"tool_calls\")"
   ]
  },
  {
   "cell_type": "code",
   "execution_count": 18,
   "id": "a8058b04",
   "metadata": {},
   "outputs": [
    {
     "data": {
      "text/plain": [
       "[{'id': 'call_955n',\n",
       "  'function': {'arguments': '{\"query\":\"who is the current president of the USA\"}',\n",
       "   'name': 'search'},\n",
       "  'type': 'function'}]"
      ]
     },
     "execution_count": 18,
     "metadata": {},
     "output_type": "execute_result"
    }
   ],
   "source": [
    "tool_details"
   ]
  },
  {
   "cell_type": "code",
   "execution_count": 19,
   "id": "31e66db7",
   "metadata": {},
   "outputs": [
    {
     "data": {
      "text/plain": [
       "'search'"
      ]
     },
     "execution_count": 19,
     "metadata": {},
     "output_type": "execute_result"
    }
   ],
   "source": [
    "tool_details[0][\"function\"][\"name\"]"
   ]
  },
  {
   "cell_type": "code",
   "execution_count": 20,
   "id": "21f24697",
   "metadata": {},
   "outputs": [
    {
     "data": {
      "text/plain": [
       "'{\"query\":\"who is the current president of the USA\"}'"
      ]
     },
     "execution_count": 20,
     "metadata": {},
     "output_type": "execute_result"
    }
   ],
   "source": [
    "tool_details[0][\"function\"][\"arguments\"]"
   ]
  },
  {
   "cell_type": "code",
   "execution_count": 21,
   "id": "1a37598c",
   "metadata": {},
   "outputs": [
    {
     "data": {
      "text/plain": [
       "{'query': 'who is the current president of the USA'}"
      ]
     },
     "execution_count": 21,
     "metadata": {},
     "output_type": "execute_result"
    }
   ],
   "source": [
    "json.loads(tool_details[0][\"function\"][\"arguments\"])"
   ]
  },
  {
   "cell_type": "code",
   "execution_count": 22,
   "id": "9768f355",
   "metadata": {},
   "outputs": [
    {
     "data": {
      "text/plain": [
       "[{'title': 'Presidents, vice presidents, and first ladies | USAGov',\n",
       "  'url': 'https://www.usa.gov/presidents',\n",
       "  'content': \"Current president\\nThe 47th and current president of the United States is Donald John Trump.\\xa0He was sworn into office on January 20, 2025.\\nFormer U.S. presidents\\nThe United States has had 46 former U.S. presidents. Read about past presidents and vice presidents.\\nMany former presidents have presidential libraries and museums you can visit to learn about their lives and their time in office. Find presidential libraries and museums.\\nRequirements to be eligible to become president [...] Current first lady\\nThe current first lady of the United States is Melania Trump.\\nFormer first ladies\\nFind a list of former first ladies and their presidential spouses.\\nSee the Smithsonian Institution's virtual tour of first ladies' inaugural ball gowns and other artifacts.\\nHow to contact the president, vice president, and first lady\\nThe president, vice president, and first lady do not have public, direct telephone numbers. The telephone number for the White House comment line is 202-456-1111. [...] The 50th and current vice president of the United States is James David (JD) Vance. He was sworn in on January 20, 2025\\nFormer vice presidents\\nRead about past presidents and vice presidents.\\nFirst lady\\nThe First lady of the United States has traditionally been the wife or other close female relative of the president of the United States. First ladies:\",\n",
       "  'score': 0.89166987},\n",
       " {'title': 'List of presidents of the United States - Wikipedia',\n",
       "  'url': 'https://en.wikipedia.org/wiki/List_of_presidents_of_the_United_States',\n",
       "  'content': 'John F. Kennedy (1961–1963)\\nLyndon B. Johnson (1963–1969)\\nRichard Nixon (1969–1974)\\nGerald Ford (1974–1977)\\nJimmy Carter (1977–1981)\\nRonald Reagan (1981–1989)\\nGeorge H. W. Bush (1989–1993)\\nBill Clinton (1993–2001)\\nGeorge W. Bush (2001–2009)\\nBarack Obama (2009–2017)\\nDonald Trump (2017–2021)\\nJoe Biden (2021–2025)\\nDonald Trump (2025–present) [...] The president of the United States is the head of state and head of government of the United States,[1] indirectly elected to a four-year term via the Electoral College.[2] Under the U.S. Constitution, the officeholder leads the executive branch of the federal government and is the commander-in-chief of the United States Armed Forces.[3] The first president, George Washington, won a unanimous vote of the Electoral College.[4] The incumbent president is Donald Trump, who assumed office on [...] January 20, 2025.[5][6] Since the office was established in 1789, 45 men have served in 47 presidencies; the discrepancy arises from two individuals elected to non-consecutive terms: Grover Cleveland is counted as the 22nd and 24th president of the United States, while Donald Trump is counted as the 45th and 47th president.[7][8]',\n",
       "  'score': 0.82761955},\n",
       " {'title': 'President of the United States - Wikipedia',\n",
       "  'url': 'https://en.wikipedia.org/wiki/President_of_the_United_States',\n",
       "  'content': \"The president is elected indirectly through the Electoral College to a four-year term, along with the vice president. Under the Twenty-second Amendment, ratified in 1951, no person who has been elected to two presidential terms may be elected to a third. In addition, nine vice presidents have become president by virtue of a president's intra-term death or resignation.[C] In all, 45 individuals have served 47 presidencies spanning 60 four-year terms.[D] Donald Trump is the 47th and current [...] After the Cold War, the United States became the world's undisputed leading power.[61] Bill Clinton, George W. Bush, and Barack Obama each served two terms as president. Meanwhile, the nation gradually became more politically polarized, leading to the ascendency of increasingly polarized Congressmembers, especially following the 1994 mid-term elections which saw Republicans control the House for the first time in 40 years, and the rise of routine filibusters in the Senate.[62] Recent presidents [...] a sitting president. The 2019 Mueller report on Russian interference in the 2016 presidential election detailed evidence of possible obstruction of justice, but investigators declined to refer Donald Trump for prosecution based on a United States Department of Justice policy against indicting an incumbent president. The report noted that impeachment by Congress was available as a remedy. As of October 2019, a case was pending in the federal courts regarding access to personal tax returns in a\",\n",
       "  'score': 0.77913743},\n",
       " {'title': 'List of USA presidents from George Washington to Donald Trump',\n",
       "  'url': 'https://timesofindia.indiatimes.com/world/us/list-of-presidents-of-us/featureshow/115011630.cms',\n",
       "  'content': 'No. | US President Name | Term start | Term end | Party | Election(s) | Vice President(s)\\n47th | Donald Trump | January 20,2025 | Present | Republican | 2024 | Kamala Harris\\n46th | Joe Biden | January 20, 2021 | Incumbent | Democratic | 2020 | Kamala Harris\\n45th | Donald Trump | January 20, 2017 | January 20, 2021 | Republican | 2016 | Mike Pence\\n44th | Barack Obama | January 20, 2009 | January 20, 2017 | Democratic | 2008, 2012 | Joe Biden [...] 43rd | George W. Bush | January 20, 2001 | January 20, 2009 | Republican | 2000, 2004 | Dick Cheney\\n42nd | Bill Clinton | January 20, 1993 | January 20, 2001 | Democratic | 1992, 1996 | Al Gore\\n41st | George H. W. Bush | January 20, 1989 | January 20, 1993 | Republican | 1988 | Dan Quayle\\n40th | Ronald Reagan | January 20, 1981 | January 20, 1989 | Republican | 1980, 1984 | George H. W. Bush\\n39th | Jimmy Carter | January 20, 1977 | January 20, 1981 | Democratic | 1976 | Walter Mondale',\n",
       "  'score': 0.7701369},\n",
       " {'title': 'The Executive Branch - Trump White House Archives',\n",
       "  'url': 'https://trumpwhitehouse.archives.gov/about-the-white-house/the-executive-branch/',\n",
       "  'content': 'President Donald J. Trump is the 45th President of the United States. He is, however, only the 44th person to serve as President; President Grover Cleveland served two nonconsecutive terms, and thus is recognized as both the 22nd and the 24th President. Today, the President is limited to two four-year terms, but until the 22nd Amendment to the Constitution, ratified in 1951, a President could serve an unlimited number of terms. Franklin Delano Roosevelt was elected President four times, serving [...] Office of Science and Technology Policy\\n\\n\\nCopyright\\n\\nPrivacy Policy\\n\\n  \\nMenu\\n\\nNews\\nRemarks\\nBriefings & Statements\\nPresidential Actions\\nArticles\\nAll News\\n\\n\\nIssues\\nEducation\\nNational Security & Defense\\nBudget & Spending\\nImmigration\\nHealthcare\\nAll Issues\\n\\n\\nThe Administration\\nPresident Donald J. Trump\\nVice President Michael R. Pence\\nFirst Lady Melania Trump\\nSecond Lady Karen Pence\\nThe Cabinet\\nDisclosures [...] President Donald J. Trump\\n\\nVice President Mike Pence\\nFirst Lady Melania Trump\\nMrs. Karen Pence\\nThe Cabinet\\n\\nAdministration Accomplishments\\n\\n\\nNews\\n\\nRemarks\\nArticles\\nPresidential Actions\\nBriefings & Statements\\n\\nAbout The White House\\n\\n\\nEconomy & Jobs\\n\\nBudget & Spending\\nEducation\\nImmigration\\nNational Security & Defense\\n\\nHealthcare\\n\\n\\nCouncil of Economic Advisers\\n\\nCouncil of Environmental Quality\\nNational Security Council\\nOffice of Management and Budget\\nOffice of National Drug Control Policy',\n",
       "  'score': 0.7380092}]"
      ]
     },
     "execution_count": 22,
     "metadata": {},
     "output_type": "execute_result"
    }
   ],
   "source": [
    "tool_mapping[tool_details[0][\"function\"][\"name\"]].invoke(json.loads(tool_details[0][\"function\"][\"arguments\"]))"
   ]
  },
  {
   "cell_type": "code",
   "execution_count": 23,
   "id": "867e28d6",
   "metadata": {},
   "outputs": [],
   "source": [
    "class AgentState(TypedDict):\n",
    "    messages: Annotated[Sequence[BaseMessage], operator.add]"
   ]
  },
  {
   "cell_type": "code",
   "execution_count": 24,
   "id": "9e403ed3",
   "metadata": {},
   "outputs": [],
   "source": [
    "def invoke_model(state:AgentState):\n",
    "    messages = state['messages']\n",
    "    question = messages[-1]   ## Fetching the user question\n",
    "    return {\"messages\":[model_with_tools.invoke(question)]}"
   ]
  },
  {
   "cell_type": "code",
   "execution_count": 25,
   "id": "eeda7f82",
   "metadata": {},
   "outputs": [],
   "source": [
    "def invoke_tool(state:AgentState):\n",
    "    tool_details= state['messages'][-1].additional_kwargs.get(\"tool_calls\", [])[0]\n",
    "    \n",
    "    if tool_details is None:\n",
    "        raise Exception(\"no tool call found\")\n",
    "    \n",
    "    print(f'Selected tool: {tool_details.get(\"function\").get(\"name\")}')\n",
    "    \n",
    "    if tool_details.get(\"function\").get(\"name\")==\"search\":\n",
    "        response = input(prompt=f\"[y/n] continue with expensive web search?\")\n",
    "        if response == \"n\":\n",
    "            raise Exception(\"web search discard\")\n",
    "        \n",
    "    response = tool_mapping[tool_details['function']['name']].invoke(json.loads(tool_details.get(\"function\").get(\"arguments\")))\n",
    "    return {\"messages\" : [response]}"
   ]
  },
  {
   "cell_type": "code",
   "execution_count": 26,
   "id": "0316725f",
   "metadata": {},
   "outputs": [],
   "source": [
    "def router(state):\n",
    "    tool_calls = state['messages'][-1].additional_kwargs.get(\"tool_calls\", [])\n",
    "    if len(tool_calls):\n",
    "        return \"tool\"\n",
    "    else:\n",
    "        return \"end\""
   ]
  },
  {
   "cell_type": "code",
   "execution_count": 27,
   "id": "96183f78",
   "metadata": {},
   "outputs": [
    {
     "data": {
      "text/plain": [
       "<langgraph.graph.state.StateGraph at 0x253918eac30>"
      ]
     },
     "execution_count": 27,
     "metadata": {},
     "output_type": "execute_result"
    }
   ],
   "source": [
    "graph = StateGraph(AgentState) ### StateGraph with AgentState\n",
    "\n",
    "graph.add_node(\"ai_assistant\", invoke_model)\n",
    "\n",
    "graph.add_node(\"tool\", invoke_tool)"
   ]
  },
  {
   "cell_type": "code",
   "execution_count": 28,
   "id": "1347e130",
   "metadata": {},
   "outputs": [
    {
     "data": {
      "text/plain": [
       "<langgraph.graph.state.StateGraph at 0x253918eac30>"
      ]
     },
     "execution_count": 28,
     "metadata": {},
     "output_type": "execute_result"
    }
   ],
   "source": [
    "graph.add_conditional_edges(\"ai_assistant\", router, {\"tool\": \"tool\",\"end\": END,})\n",
    "\n",
    "graph.add_edge(\"tool\", END)\n",
    "\n",
    "#graph.add_edge(\"tool\", \"ai_assistant\")\n",
    "\n",
    "graph.set_entry_point(\"ai_assistant\")"
   ]
  },
  {
   "cell_type": "code",
   "execution_count": 29,
   "id": "0a4f7857",
   "metadata": {},
   "outputs": [],
   "source": [
    "app = graph.compile()"
   ]
  },
  {
   "cell_type": "code",
   "execution_count": 30,
   "id": "062a9611",
   "metadata": {},
   "outputs": [
    {
     "data": {
      "image/png": "[encoded data removed]",
      "text/plain": [
       "<IPython.core.display.Image object>"
      ]
     },
     "metadata": {},
     "output_type": "display_data"
    }
   ],
   "source": [
    "from IPython.display import Image, display\n",
    "display(Image(app.get_graph().draw_mermaid_png()))"
   ]
  },
  {
   "cell_type": "code",
   "execution_count": 31,
   "id": "d622d929",
   "metadata": {},
   "outputs": [
    {
     "name": "stdout",
     "output_type": "stream",
     "text": [
      "{'messages': [AIMessage(content='', additional_kwargs={'tool_calls': [{'id': 'call_t5zg', 'function': {'arguments': '{\"first_number\":23,\"second_number\":46}', 'name': 'multiply'}, 'type': 'function'}]}, response_metadata={'token_usage': {'completion_tokens': 93, 'prompt_tokens': 1080, 'total_tokens': 1173, 'completion_time': 0.169090909, 'prompt_time': 0.037661372, 'queue_time': 0.519714487, 'total_time': 0.206752281}, 'model_name': 'Gemma2-9b-It', 'system_fingerprint': 'fp_10c08bf97d', 'finish_reason': 'tool_calls', 'logprobs': None}, id='run-c8033c2a-3fed-4902-99f6-7617bae0a1b7-0', tool_calls=[{'name': 'multiply', 'args': {'first_number': 23, 'second_number': 46}, 'id': 'call_t5zg', 'type': 'tool_call'}], usage_metadata={'input_tokens': 1080, 'output_tokens': 93, 'total_tokens': 1173})]}\n",
      "----\n",
      "Selected tool: multiply\n",
      "{'messages': [1058]}\n",
      "----\n"
     ]
    }
   ],
   "source": [
    "for s in app.stream({\"messages\": [\"what is multiplication of 23 and 46?\"]}):\n",
    "    print(list(s.values())[0])\n",
    "    print(\"----\")"
   ]
  },
  {
   "cell_type": "code",
   "execution_count": 32,
   "id": "2869333c",
   "metadata": {},
   "outputs": [],
   "source": [
    "from langchain_groq import ChatGroq\n",
    "llm=ChatGroq(model_name=\"Gemma2-9b-It\")"
   ]
  },
  {
   "cell_type": "code",
   "execution_count": 33,
   "id": "8d9693c0",
   "metadata": {},
   "outputs": [],
   "source": [
    "class AgentState(TypedDict):\n",
    "    messages: Annotated[list, add_messages]\n",
    "     "
   ]
  },
  {
   "cell_type": "code",
   "execution_count": 36,
   "id": "08713aac",
   "metadata": {},
   "outputs": [],
   "source": [
    "tavily=TavilySearchResults()"
   ]
  },
  {
   "cell_type": "code",
   "execution_count": 37,
   "id": "6fddd3ca",
   "metadata": {},
   "outputs": [],
   "source": [
    "tools = [tavily]"
   ]
  },
  {
   "cell_type": "code",
   "execution_count": 38,
   "id": "1b83dc5c",
   "metadata": {},
   "outputs": [],
   "source": [
    "llm_with_tools = llm.bind_tools(tools)"
   ]
  },
  {
   "cell_type": "code",
   "execution_count": 39,
   "id": "88ab8f53",
   "metadata": {},
   "outputs": [],
   "source": [
    "def ai_assistant(state: AgentState):\n",
    "    return {\"messages\": [llm_with_tools.invoke(state[\"messages\"])]}"
   ]
  },
  {
   "cell_type": "code",
   "execution_count": 40,
   "id": "2fff0da5",
   "metadata": {},
   "outputs": [],
   "source": [
    "memory = MemorySaver()"
   ]
  },
  {
   "cell_type": "code",
   "execution_count": 41,
   "id": "12dda905",
   "metadata": {},
   "outputs": [
    {
     "data": {
      "text/plain": [
       "<langgraph.graph.state.StateGraph at 0x2539198ecf0>"
      ]
     },
     "execution_count": 41,
     "metadata": {},
     "output_type": "execute_result"
    }
   ],
   "source": [
    "graph_builder = StateGraph(AgentState)\n",
    "graph_builder.add_node(\"ai_assistant\", ai_assistant)\n",
    "\n",
    "tool_node = ToolNode(tools=tools)\n",
    "graph_builder.add_node(\"tools\", tool_node)"
   ]
  },
  {
   "cell_type": "code",
   "execution_count": 42,
   "id": "9f5f3252",
   "metadata": {},
   "outputs": [
    {
     "data": {
      "text/plain": [
       "<langgraph.graph.state.StateGraph at 0x2539198ecf0>"
      ]
     },
     "execution_count": 42,
     "metadata": {},
     "output_type": "execute_result"
    }
   ],
   "source": [
    "graph_builder.add_edge(START, \"ai_assistant\")\n",
    "\n",
    "graph_builder.add_conditional_edges(\n",
    "    \"ai_assistant\",\n",
    "    tools_condition,\n",
    ")\n",
    "graph_builder.add_edge(\"tools\", \"ai_assistant\")"
   ]
  },
  {
   "cell_type": "code",
   "execution_count": 43,
   "id": "f91c152b",
   "metadata": {},
   "outputs": [],
   "source": [
    "app2 = graph_builder.compile(\n",
    "    checkpointer=memory,\n",
    "    # This is new!\n",
    "    interrupt_before=[\"tools\"],\n",
    "    # Note: can also interrupt __after__ tools, if desired.\n",
    "    # interrupt_after=[\"tools\"]\n",
    ")"
   ]
  },
  {
   "cell_type": "code",
   "execution_count": 44,
   "id": "ec581aee",
   "metadata": {},
   "outputs": [
    {
     "data": {
      "image/png": "[encoded data removed]",
      "text/plain": [
       "<IPython.core.display.Image object>"
      ]
     },
     "metadata": {},
     "output_type": "display_data"
    }
   ],
   "source": [
    "from IPython.display import Image, display\n",
    "display(Image(app2.get_graph().draw_mermaid_png()))"
   ]
  },
  {
   "cell_type": "code",
   "execution_count": 45,
   "id": "1eaadf8d",
   "metadata": {},
   "outputs": [],
   "source": [
    "user_input = \"what is current a capital of india?\"\n",
    "config = {\"configurable\": {\"thread_id\": \"1\"}}"
   ]
  },
  {
   "cell_type": "code",
   "execution_count": 46,
   "id": "06062c23",
   "metadata": {},
   "outputs": [],
   "source": [
    "# The config is the **second positional argument** to stream() or invoke()!\n",
    "events = app2.stream(\n",
    "    {\"messages\": [(\"user\", user_input)]}, config, stream_mode=\"values\"\n",
    ")"
   ]
  },
  {
   "cell_type": "code",
   "execution_count": 47,
   "id": "ae6834c7",
   "metadata": {},
   "outputs": [
    {
     "name": "stdout",
     "output_type": "stream",
     "text": [
      "================================\u001b[1m Human Message \u001b[0m=================================\n",
      "\n",
      "what is current a capital of india?\n",
      "==================================\u001b[1m Ai Message \u001b[0m==================================\n",
      "Tool Calls:\n",
      "  tavily_search_results_json (call_vn0e)\n",
      " Call ID: call_vn0e\n",
      "  Args:\n",
      "    query: capital of india\n"
     ]
    }
   ],
   "source": [
    "for event in events:\n",
    "    if \"messages\" in event:\n",
    "        event[\"messages\"][-1].pretty_print()"
   ]
  },
  {
   "cell_type": "code",
   "execution_count": 48,
   "id": "9d29334c",
   "metadata": {},
   "outputs": [],
   "source": [
    "snapshot = app2.get_state(config)"
   ]
  },
  {
   "cell_type": "code",
   "execution_count": null,
   "id": "f0ff5c0c",
   "metadata": {},
   "outputs": [],
   "source": []
  }
 ],
 "metadata": {
  "kernelspec": {
   "display_name": "venv (3.12.5)",
   "language": "python",
   "name": "python3"
  },
  "language_info": {
   "codemirror_mode": {
    "name": "ipython",
    "version": 3
   },
   "file_extension": ".py",
   "mimetype": "text/x-python",
   "name": "python",
   "nbconvert_exporter": "python",
   "pygments_lexer": "ipython3",
   "version": "3.12.5"
  }
 },
 "nbformat": 4,
 "nbformat_minor": 5
}
