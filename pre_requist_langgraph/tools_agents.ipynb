{
 "cells": [
  {
   "cell_type": "code",
   "execution_count": 2,
   "metadata": {},
   "outputs": [],
   "source": [
    "import os\n",
    "from dotenv import load_dotenv\n",
    "load_dotenv()\n",
    "\n",
    "GOOGLE_API_KEY=os.getenv(\"GOOGLE_API_KEY\")\n",
    "TAVILY_API_KEY=os.getenv(\"TAVILY_API_KEY\")\n",
    "GROQ_API_KEY=os.getenv(\"GROQ_API_KEY\")\n",
    "LANGCHAIN_API_KEY=os.getenv(\"LANGCHAIN_API_KEY\")\n",
    "LANGCHAIN_PROJECT=os.getenv(\"LANGCHAIN_PROJECT\")\n",
    "os.environ[\"GOOGLE_API_KEY\"] = GOOGLE_API_KEY\n",
    "os.environ[\"TAVILY_API_KEY\"] = TAVILY_API_KEY\n",
    "os.environ[\"GROQ_API_KEY\"]= GROQ_API_KEY\n",
    "os.environ[\"LANGCHAIN_API_KEY\"] = LANGCHAIN_API_KEY\n",
    "os.environ[\"LANGCHAIN_TRACING_V2\"] = \"true\"\n",
    "os.environ[\"LANGCHAIN_ENDPOINT\"] = \"https://api.smith.langchain.com\"\n",
    "os.environ[\"LANGCHAIN_PROJECT\"]=LANGCHAIN_PROJECT"
   ]
  },
  {
   "cell_type": "code",
   "execution_count": 5,
   "metadata": {},
   "outputs": [
    {
     "name": "stderr",
     "output_type": "stream",
     "text": [
      "c:\\Users\\JAGADEESHNAIKPALTHYA\\langgraph-end-to-end\\venv\\Lib\\site-packages\\tqdm\\auto.py:21: TqdmWarning: IProgress not found. Please update jupyter and ipywidgets. See https://ipywidgets.readthedocs.io/en/stable/user_install.html\n",
      "  from .autonotebook import tqdm as notebook_tqdm\n"
     ]
    }
   ],
   "source": [
    "from langchain_huggingface import HuggingFaceEmbeddings\n",
    "embeddings=HuggingFaceEmbeddings(model_name=\"all-MiniLM-L6-v2\")"
   ]
  },
  {
   "cell_type": "code",
   "execution_count": 7,
   "metadata": {},
   "outputs": [],
   "source": [
    "from langchain_groq import ChatGroq\n",
    "llm=ChatGroq(model_name=\"Gemma2-9b-It\")"
   ]
  },
  {
   "cell_type": "code",
   "execution_count": 9,
   "metadata": {},
   "outputs": [
    {
     "data": {
      "text/plain": [
       "AIMessage(content=\"As an AI, I don't have feelings, but I'm here and ready to assist you! How can I help you today?\\n\", additional_kwargs={}, response_metadata={'token_usage': {'completion_tokens': 32, 'prompt_tokens': 15, 'total_tokens': 47, 'completion_time': 0.058181818, 'prompt_time': 0.001884436, 'queue_time': 0.235046523, 'total_time': 0.060066254}, 'model_name': 'Gemma2-9b-It', 'system_fingerprint': 'fp_10c08bf97d', 'finish_reason': 'stop', 'logprobs': None}, id='run-ed0e7656-74de-41b8-9869-adb1541c4a84-0', usage_metadata={'input_tokens': 15, 'output_tokens': 32, 'total_tokens': 47})"
      ]
     },
     "execution_count": 9,
     "metadata": {},
     "output_type": "execute_result"
    }
   ],
   "source": [
    "llm.invoke(\"hi,how are you?\")"
   ]
  },
  {
   "cell_type": "markdown",
   "metadata": {},
   "source": [
    "### Pre-difined Tools"
   ]
  },
  {
   "cell_type": "code",
   "execution_count": 14,
   "metadata": {},
   "outputs": [
    {
     "name": "stdout",
     "output_type": "stream",
     "text": [
      "No good Wikipedia Search Result was found\n"
     ]
    }
   ],
   "source": [
    "from langchain_community.tools import WikipediaQueryRun\n",
    "from langchain_community.utilities import WikipediaAPIWrapper\n",
    "api_wrapper = WikipediaAPIWrapper()\n",
    "tool = WikipediaQueryRun(api_wrapper=api_wrapper)\n",
    "print(tool.run({\"query\": \"langchan\"}))"
   ]
  },
  {
   "cell_type": "code",
   "execution_count": 15,
   "metadata": {},
   "outputs": [
    {
     "data": {
      "text/plain": [
       "\"['https://www.youtube.com/watch?v=cydntJObPLI&pp=ygUMc3Vubnkgc2F2aXRh', 'https://www.youtube.com/watch?v=xVGQrltjaRs&pp=ygUMc3Vubnkgc2F2aXRh']\""
      ]
     },
     "execution_count": 15,
     "metadata": {},
     "output_type": "execute_result"
    }
   ],
   "source": [
    "from langchain_community.tools import YouTubeSearchTool\n",
    "tool2=YouTubeSearchTool()\n",
    "tool2.run(\"sunny savita\")"
   ]
  },
  {
   "cell_type": "code",
   "execution_count": 16,
   "metadata": {},
   "outputs": [
    {
     "data": {
      "text/plain": [
       "\"['https://www.youtube.com/watch?v=m9s1NQG3TNY&pp=ygUMY2FycnkgbWluYXRp', 'https://www.youtube.com/watch?v=i2xxhRTs5Uc&pp=ygUMY2FycnkgbWluYXRp']\""
      ]
     },
     "execution_count": 16,
     "metadata": {},
     "output_type": "execute_result"
    }
   ],
   "source": [
    "from langchain_community.tools import YouTubeSearchTool\n",
    "tool2=YouTubeSearchTool()\n",
    "tool2.run(\"carry minati\")"
   ]
  },
  {
   "cell_type": "code",
   "execution_count": 18,
   "metadata": {},
   "outputs": [
    {
     "data": {
      "text/plain": [
       "[{'title': 'Burning Man flooding: What happened to stranded festivalgoers?',\n",
       "  'url': 'https://abcnews.go.com/US/burning-man-flooding-happened-stranded-festivalgoers/story?id=102908331',\n",
       "  'content': '2:49\\nAttendees look at a double rainbow over flooding on a desert plain at the Burning Man festival in Black Rock City, Nevada, September 1, 2023.\\nJulie Jammot/AFP via Getty Images\\nTens of thousands of Burning Man attendees are now able to leave the festival after a downpour and massive flooding left them stranded over the weekend. [...] Camps are set on a muddy desert plain at the Burning Man festival in Black Rock, City, Nevada, Sept. 2, 2023.\\nJulie Jammot/AFP via Getty Images\\nWhat happened?\\nBlack Rock Desert was faced with two to three months worth of rain in just a matter of hours on Friday, Sept. 1.\\nOn average, the area gets only 0.2 inches of rain or less in September -- but festivalgoers were met with up to 1 inch in some areas, in a desert that gets only about 5 to 6 inches of rain per year. [...] Attendees look at a double rainbow over flooding on a desert plain at the Burning Man festival in Black Rock City, Nevada, September 1, 2023.\\nJulie Jammot/AFP via Getty Images\\nAttendees were advised not to operate any generators or other electrical instruments standing in water.',\n",
       "  'score': 0.7602419},\n",
       " {'title': 'Travel to Burning Man delayed due to thunderstorms - FOX Weather',\n",
       "  'url': 'https://www.foxweather.com/weather-news/burning-man-festivalgoers-experience-travel-issues-black-rock-city-nevada-rain',\n",
       "  'content': '02:03\\nFILE: Thousands remain trapped after flooding at Burning Man\\nMonsoon rains on Friday and over the weekend caused flash flooding at Burning Man, turning the usually dry, desert landscape of the festival grounds into a muddy mess. Sept. 4, 2023.\\nRain around the Black Rock Desert in northwestern Nevada is hampering travel plans for Burning Man Festival attendees on Saturday – the second year in a row weather has presented issues to the massive festival.',\n",
       "  'score': 0.7306941},\n",
       " {'title': \"How One Man Escaped From Burning Man 2023's Floods\",\n",
       "  'url': 'https://www.outsideonline.com/outdoor-adventure/exploration-survival/burning-man-2023-flooding-rain/',\n",
       "  'content': 'There are always rumors at Burning Man, most of them lighthearted gossip,\\xa0but some serious ones began to circulate—like the debunked story that there was an Ebola outbreak on the playa. Unfortunately, someone at the event did die, and though nobody knew the details, the rumor was that they had been electrocuted because of the water. [...] My buddy Bill and I got in Wednesday, August 30, around noon, and everything was as good as we’d hoped. A few weeks prior,\\xa0Tropical Storm Hilary had flooded Black Rock City. While that made for a rough few days for the crews setting up,\\xa0it meant that the playa (i.e. the dry lake bed, which is made of a fine, alkaline dirt) was perfectly tamped down. There wasn’t a ton of dust flying around, and unlike last year there were no big sand traps just waiting to grab the wheels of your bike and take [...] Hours went by, and the steady, driving rain continued. During the late summer the playa typically has a dry, cracked texture. Looking out of my friend’s tent I could see that those cracks had filled in with water and deep puddles had formed. News came through via FM radio that organizers had issued a do-not-drive order, and that people were being asked to shelter in place. The ground had never fully dried after Hilary, and now it was completely saturated again. I stepped out to check on my',\n",
       "  'score': 0.7055624},\n",
       " {'title': \"What we know about 2023 Burning Man festival's flooding chaos\",\n",
       "  'url': 'https://www.the-independent.com/news/world/americas/what-is-burning-man-festival-b2404911.html',\n",
       "  'content': 'On Monday, officials in the Pershing County Sheriff’s Office confirmed the death was that of 32-year-old Leon Reece. He was found unresponsive on the playa and his death was “unrelated to the weather.” An official cause has yet to be released.\\n\\nThe man’s death is currently under investigation.\\n\\nThe Independent has reached out to the law enforcement agency for comment.\\n\\nChaos at the exodus [...] Then toward the end of the nine-day art and cultures festival, heavy rains poured down, causing flooding and a massive amount of mud.\\n\\nHeavy rains, brought on by a rare hurricane on the West Coast, forced organisers and local authorities to close roads for the remainder of the festival and told anyone en route to go home.\\n\\nBy Saturday, more than 70,000 “Burners” at the site were urged to hunker down and conserve supplies amid mud slicks and unserviced toilets. [...] On Sunday, police announced an investigation into an unspecified death at the festival. The deceased was identified as 32-year-old Leon Reece - but his cause of death has not been determined.\\n\\nHere’s everything we know about the Burning Man 2023 fiasco:\\n\\nWhat is Burning Man?\\n\\nThe festival is a “temporary metropolis dedicated to community, art, self-expression, and self-reliance,” according to its website.',\n",
       "  'score': 0.7018975},\n",
       " {'title': 'Burning Man festival: 70,000 attendees stranded and one dead after ...',\n",
       "  'url': 'https://www.youtube.com/watch?v=-CPGsjvAOUs',\n",
       "  'content': 'Burning Man festival: 70,000 attendees stranded and one dead after rain and flooding\\nCBC News\\n4040000 subscribers\\n1144 likes\\n293646 views\\n3 Sep 2023\\nThe Burning Man counter-culture festival in Nevada was hit by flooding that left thousands of attendees stranded in the desert on Saturday. Authorities in northern Nevada said they were investigating one death at the site. Revellers were urged to shelter in place and conserve food and water as officials looked to organize shuttle buses.',\n",
       "  'score': 0.6899958}]"
      ]
     },
     "execution_count": 18,
     "metadata": {},
     "output_type": "execute_result"
    }
   ],
   "source": [
    "from langchain_community.tools.tavily_search import TavilySearchResults\n",
    "tool = TavilySearchResults()\n",
    "tool.invoke({\"query\": \"What happened in the latest burning man floods\"})"
   ]
  },
  {
   "cell_type": "markdown",
   "metadata": {},
   "source": [
    "### Custom tools"
   ]
  },
  {
   "cell_type": "code",
   "execution_count": 19,
   "metadata": {},
   "outputs": [],
   "source": [
    "from langchain.agents import tool\n",
    "@tool\n",
    "def get_word_length(word: str) -> int:\n",
    "    \"\"\"Returns the length of a word.\"\"\"\n",
    "    return len(word)"
   ]
  },
  {
   "cell_type": "code",
   "execution_count": 20,
   "metadata": {},
   "outputs": [
    {
     "data": {
      "text/plain": [
       "3"
      ]
     },
     "execution_count": 20,
     "metadata": {},
     "output_type": "execute_result"
    }
   ],
   "source": [
    "get_word_length.invoke('Hii')"
   ]
  },
  {
   "cell_type": "code",
   "execution_count": 21,
   "metadata": {},
   "outputs": [],
   "source": [
    "@tool\n",
    "def multiply(a: int, b: int) -> int:\n",
    "    \"\"\"Multiply two numbers.\"\"\"\n",
    "    return a * b"
   ]
  },
  {
   "cell_type": "code",
   "execution_count": 23,
   "metadata": {},
   "outputs": [],
   "source": [
    "@tool\n",
    "def summisation(a: int, b: int) -> int:\n",
    "    \"\"\"Adding two numbers.\"\"\"\n",
    "    return a + b"
   ]
  },
  {
   "cell_type": "code",
   "execution_count": 24,
   "metadata": {},
   "outputs": [
    {
     "name": "stdout",
     "output_type": "stream",
     "text": [
      "multiply\n",
      "Multiply two numbers.\n",
      "{'a': {'title': 'A', 'type': 'integer'}, 'b': {'title': 'B', 'type': 'integer'}}\n"
     ]
    }
   ],
   "source": [
    "print(multiply.name)\n",
    "print(multiply.description)\n",
    "print(multiply.args)"
   ]
  },
  {
   "cell_type": "markdown",
   "metadata": {},
   "source": [
    "### Agents"
   ]
  },
  {
   "cell_type": "code",
   "execution_count": 25,
   "metadata": {},
   "outputs": [],
   "source": [
    "from langchain.agents import AgentType\n",
    "from langchain.agents import load_tools \n",
    "from langchain.agents import initialize_agent"
   ]
  },
  {
   "cell_type": "code",
   "execution_count": 32,
   "metadata": {},
   "outputs": [],
   "source": [
    "tool=load_tools([\"wikipedia\"],llm=llm)"
   ]
  },
  {
   "cell_type": "code",
   "execution_count": 27,
   "metadata": {},
   "outputs": [
    {
     "name": "stderr",
     "output_type": "stream",
     "text": [
      "C:\\Users\\JAGADEESHNAIKPALTHYA\\AppData\\Local\\Temp\\ipykernel_17544\\2645007812.py:1: LangChainDeprecationWarning: LangChain agents will continue to be supported, but it is recommended for new use cases to be built with LangGraph. LangGraph offers a more flexible and full-featured framework for building agents, including support for tool-calling, persistence of state, and human-in-the-loop workflows. For details, refer to the `LangGraph documentation <https://langchain-ai.github.io/langgraph/>`_ as well as guides for `Migrating from AgentExecutor <https://python.langchain.com/docs/how_to/migrate_agent/>`_ and LangGraph's `Pre-built ReAct agent <https://langchain-ai.github.io/langgraph/how-tos/create-react-agent/>`_.\n",
      "  agent=initialize_agent(tool,llm,agent=AgentType.ZERO_SHOT_REACT_DESCRIPTION,verbose=True)\n"
     ]
    }
   ],
   "source": [
    "agent=initialize_agent(tool,llm,agent=AgentType.ZERO_SHOT_REACT_DESCRIPTION,verbose=True)"
   ]
  },
  {
   "cell_type": "code",
   "execution_count": 34,
   "metadata": {},
   "outputs": [
    {
     "name": "stdout",
     "output_type": "stream",
     "text": [
      "\n",
      "\n",
      "\u001b[1m> Entering new AgentExecutor chain...\u001b[0m\n",
      "\u001b[32;1m\u001b[1;3mThought: I need to look up information about Keerthi Suresh on Wikipedia.\n",
      "Action: wikipedia\n",
      "Action Input: Keerthi Suresh\u001b[0m\n",
      "Observation: \u001b[36;1m\u001b[1;3mPage: Keerthy Suresh\n",
      "Summary: Keerthy Suresh (born 17 October 1992) is an Indian actress who appears predominantly in  Tamil and Telugu films. Her accolades include one National Film Award, five SIIMA Awards and two Filmfare Awards South. Keerthy was placed in Forbes India's 30 Under 30 list of 2021. \n",
      "Keerthy is the daughter of film producer G. Suresh Kumar and actress Menaka. She began her career as a child actress in the early 2000s and returned to films after studying fashion design. She had her first lead role in the 2013 Malayalam film Geethaanjali, for which she won the SIIMA Award for Best Female Debut – Malayalam. After winning the SIIMA Award for Best Female Debut – Tamil for Idhu Enna Maayam (2015), Keerthy went on to star in successful films such as Ring Master (2014), Nenu Sailaja (2016), Rajinimurugan (2016), Remo (2016), Bairavaa (2017), Nenu Local (2017), Sarkar (2018), Thaanaa Serndha Koottam (2018), Sarkaru Vaari Paata (2022). \n",
      "Her portrayal of Savitri in the biopic Mahanati (2018) earned her the Filmfare Award and National Film Award for Best Actress. She won another Filmfare Best Actress award for the action film Dasara (2023).\n",
      "\n",
      "Page: Dasara (film)\n",
      "Summary: Dasara (transl. Vijayadasami) is a 2023 Indian Telugu-language period action drama film directed by Srikanth Odela and produced by Sudhakar Cherukuri. It stars an ensemble cast of Nani, Dheekshith Shetty, Keerthi Suresh, Shine Tom Chacko, Samuthirakani, P. Sai Kumar and Shamna Kasim. The film marks the directorial debut of Odela and Chacko's acting debut in Telugu cinema. Santhosh Narayanan composed the soundtrack and background score, while the cinematography and editing were composed by Sathyan Sooryan and Naveen Nooli.\n",
      "The film was announced in October 2021. Principal photography commenced in March 2022 and ended in January 2023. The film is set in the backdrop of Singareni Coal Mines at Veerlapalli village near by  Godavarikhani and Ramagundam cities of Telangana.\n",
      "Dasara was released on 30 March 2023 to positive reviews from critics and emerged as a commercial success at the box office, grossing over ₹121 crore worldwide.\n",
      "\n",
      "Page: Keerthi\n",
      "Summary: Keerthi, also spelled Keerti, Keerthy or Kirti, is an Indian feminine given name. It may refer to:\n",
      "include:\n",
      "\n",
      "Keerti Gaekwad Kelkar (born 1974), Indian actress and model\n",
      "Keerti Nagpure (fl. 2010–present), Indian actress\n",
      "Keerti Shah (1928–2019), Indian virologist\n",
      "Keerthi Pasquel (born 1956), singer\n",
      "Keerthi Ranasinghe (born 1962), cricketer\n",
      "Keerthi Reddy (born 1977), Indian actress\n",
      "Keerthi Sagathia (born 1979), singer\n",
      "Keerthi Chawla (born 1981), Indian actress\n",
      "Keerthi Bhat (born 1999), Indian actress\n",
      "Keerthi Pandian (born 1992), Indian actress\n",
      "Keerthi Shanthanu (born 1985), Indian television presenter\n",
      "Keerthy Suresh (born 1992), Indian actress\u001b[0m\n",
      "Thought:\u001b[32;1m\u001b[1;3mThought: I need to look up information about Keerthi Suresh on Wikipedia.\n",
      "Action: wikipedia\n",
      "Action Input: Keerthi Suresh\u001b[0m\n",
      "Observation: \u001b[36;1m\u001b[1;3mPage: Keerthy Suresh\n",
      "Summary: Keerthy Suresh (born 17 October 1992) is an Indian actress who appears predominantly in  Tamil and Telugu films. Her accolades include one National Film Award, five SIIMA Awards and two Filmfare Awards South. Keerthy was placed in Forbes India's 30 Under 30 list of 2021. \n",
      "Keerthy is the daughter of film producer G. Suresh Kumar and actress Menaka. She began her career as a child actress in the early 2000s and returned to films after studying fashion design. She had her first lead role in the 2013 Malayalam film Geethaanjali, for which she won the SIIMA Award for Best Female Debut – Malayalam. After winning the SIIMA Award for Best Female Debut – Tamil for Idhu Enna Maayam (2015), Keerthy went on to star in successful films such as Ring Master (2014), Nenu Sailaja (2016), Rajinimurugan (2016), Remo (2016), Bairavaa (2017), Nenu Local (2017), Sarkar (2018), Thaanaa Serndha Koottam (2018), Sarkaru Vaari Paata (2022). \n",
      "Her portrayal of Savitri in the biopic Mahanati (2018) earned her the Filmfare Award and National Film Award for Best Actress. She won another Filmfare Best Actress award for the action film Dasara (2023).\n",
      "\n",
      "Page: Dasara (film)\n",
      "Summary: Dasara (transl. Vijayadasami) is a 2023 Indian Telugu-language period action drama film directed by Srikanth Odela and produced by Sudhakar Cherukuri. It stars an ensemble cast of Nani, Dheekshith Shetty, Keerthi Suresh, Shine Tom Chacko, Samuthirakani, P. Sai Kumar and Shamna Kasim. The film marks the directorial debut of Odela and Chacko's acting debut in Telugu cinema. Santhosh Narayanan composed the soundtrack and background score, while the cinematography and editing were composed by Sathyan Sooryan and Naveen Nooli.\n",
      "The film was announced in October 2021. Principal photography commenced in March 2022 and ended in January 2023. The film is set in the backdrop of Singareni Coal Mines at Veerlapalli village near by  Godavarikhani and Ramagundam cities of Telangana.\n",
      "Dasara was released on 30 March 2023 to positive reviews from critics and emerged as a commercial success at the box office, grossing over ₹121 crore worldwide.\n",
      "\n",
      "Page: Keerthi\n",
      "Summary: Keerthi, also spelled Keerti, Keerthy or Kirti, is an Indian feminine given name. It may refer to:\n",
      "include:\n",
      "\n",
      "Keerti Gaekwad Kelkar (born 1974), Indian actress and model\n",
      "Keerti Nagpure (fl. 2010–present), Indian actress\n",
      "Keerti Shah (1928–2019), Indian virologist\n",
      "Keerthi Pasquel (born 1956), singer\n",
      "Keerthi Ranasinghe (born 1962), cricketer\n",
      "Keerthi Reddy (born 1977), Indian actress\n",
      "Keerthi Sagathia (born 1979), singer\n",
      "Keerthi Chawla (born 1981), Indian actress\n",
      "Keerthi Bhat (born 1999), Indian actress\n",
      "Keerthi Pandian (born 1992), Indian actress\n",
      "Keerthi Shanthanu (born 1985), Indian television presenter\n",
      "Keerthy Suresh (born 1992), Indian actress\u001b[0m\n",
      "Thought:\u001b[32;1m\u001b[1;3mQuestion: who is keerthi suresh\n",
      "Thought: I need to look up information about Keerthi Suresh on Wikipedia.\n",
      "Action: wikipedia\n",
      "Action Input: Keerthi Suresh\u001b[0m\n",
      "Observation: \u001b[36;1m\u001b[1;3mPage: Keerthy Suresh\n",
      "Summary: Keerthy Suresh (born 17 October 1992) is an Indian actress who appears predominantly in  Tamil and Telugu films. Her accolades include one National Film Award, five SIIMA Awards and two Filmfare Awards South. Keerthy was placed in Forbes India's 30 Under 30 list of 2021. \n",
      "Keerthy is the daughter of film producer G. Suresh Kumar and actress Menaka. She began her career as a child actress in the early 2000s and returned to films after studying fashion design. She had her first lead role in the 2013 Malayalam film Geethaanjali, for which she won the SIIMA Award for Best Female Debut – Malayalam. After winning the SIIMA Award for Best Female Debut – Tamil for Idhu Enna Maayam (2015), Keerthy went on to star in successful films such as Ring Master (2014), Nenu Sailaja (2016), Rajinimurugan (2016), Remo (2016), Bairavaa (2017), Nenu Local (2017), Sarkar (2018), Thaanaa Serndha Koottam (2018), Sarkaru Vaari Paata (2022). \n",
      "Her portrayal of Savitri in the biopic Mahanati (2018) earned her the Filmfare Award and National Film Award for Best Actress. She won another Filmfare Best Actress award for the action film Dasara (2023).\n",
      "\n",
      "Page: Dasara (film)\n",
      "Summary: Dasara (transl. Vijayadasami) is a 2023 Indian Telugu-language period action drama film directed by Srikanth Odela and produced by Sudhakar Cherukuri. It stars an ensemble cast of Nani, Dheekshith Shetty, Keerthi Suresh, Shine Tom Chacko, Samuthirakani, P. Sai Kumar and Shamna Kasim. The film marks the directorial debut of Odela and Chacko's acting debut in Telugu cinema. Santhosh Narayanan composed the soundtrack and background score, while the cinematography and editing were composed by Sathyan Sooryan and Naveen Nooli.\n",
      "The film was announced in October 2021. Principal photography commenced in March 2022 and ended in January 2023. The film is set in the backdrop of Singareni Coal Mines at Veerlapalli village near by  Godavarikhani and Ramagundam cities of Telangana.\n",
      "Dasara was released on 30 March 2023 to positive reviews from critics and emerged as a commercial success at the box office, grossing over ₹121 crore worldwide.\n",
      "\n",
      "Page: Keerthi\n",
      "Summary: Keerthi, also spelled Keerti, Keerthy or Kirti, is an Indian feminine given name. It may refer to:\n",
      "include:\n",
      "\n",
      "Keerti Gaekwad Kelkar (born 1974), Indian actress and model\n",
      "Keerti Nagpure (fl. 2010–present), Indian actress\n",
      "Keerti Shah (1928–2019), Indian virologist\n",
      "Keerthi Pasquel (born 1956), singer\n",
      "Keerthi Ranasinghe (born 1962), cricketer\n",
      "Keerthi Reddy (born 1977), Indian actress\n",
      "Keerthi Sagathia (born 1979), singer\n",
      "Keerthi Chawla (born 1981), Indian actress\n",
      "Keerthi Bhat (born 1999), Indian actress\n",
      "Keerthi Pandian (born 1992), Indian actress\n",
      "Keerthi Shanthanu (born 1985), Indian television presenter\n",
      "Keerthy Suresh (born 1992), Indian actress\u001b[0m\n",
      "Thought:\u001b[32;1m\u001b[1;3mThought: I know who Keerthi Suresh is now. \n",
      "Final Answer: Keerthy Suresh is an Indian actress who predominantly appears in Tamil and Telugu films. She is the recipient of multiple awards, including a National Film Award and five SIIMA Awards.  \n",
      "\n",
      "\n",
      "\u001b[0m\n",
      "\n",
      "\u001b[1m> Finished chain.\u001b[0m\n"
     ]
    },
    {
     "data": {
      "text/plain": [
       "'Keerthy Suresh is an Indian actress who predominantly appears in Tamil and Telugu films. She is the recipient of multiple awards, including a National Film Award and five SIIMA Awards.'"
      ]
     },
     "execution_count": 34,
     "metadata": {},
     "output_type": "execute_result"
    }
   ],
   "source": [
    "agent.run('who is keerthi suresh')"
   ]
  },
  {
   "cell_type": "code",
   "execution_count": 35,
   "metadata": {},
   "outputs": [
    {
     "name": "stdout",
     "output_type": "stream",
     "text": [
      "\n",
      "\n",
      "\u001b[1m> Entering new AgentExecutor chain...\u001b[0m\n",
      "\u001b[32;1m\u001b[1;3mThought: I need to look up \"llama\" on Wikipedia to find information about the LLM model.\n",
      "Action: wikipedia\n",
      "Action Input: llama (large language model)\u001b[0m\n",
      "Observation: \u001b[36;1m\u001b[1;3mPage: Llama (language model)\n",
      "Summary: Llama (Large Language Model Meta AI, formerly stylized as LLaMA) is a family of large language models (LLMs) released by Meta AI starting in February 2023. The latest version is Llama 3.3, released in December 2024.\n",
      "Llama models are trained at different parameter sizes, ranging between 1B and 405B. Initially  only a foundation model, starting with Llama 2, Meta AI released instruction fine-tuned versions alongside foundation models.\n",
      "Model weights for the first version of Llama were only available to researchers on a case-by-case basis, under a non-commercial license. Unauthorized copies of the first model were shared via BitTorrent. Subsequent versions of Llama were made accessible outside academia and released under licenses that permitted some commercial use.\n",
      "Alongside the release of Llama 3, Meta added virtual assistant features to Facebook and WhatsApp in select regions, and a standalone website. Both services use a Llama 3 model.\n",
      "\n",
      "Page: Large language model\n",
      "Summary: A large language model (LLM) is a type of machine learning model designed for natural language processing tasks such as language generation. LLMs are language models with many parameters, and are trained with self-supervised learning on a vast amount of text.\n",
      "The largest and most capable LLMs are generative pretrained transformers (GPTs). Modern models can be fine-tuned for specific tasks or guided by prompt engineering. These models acquire predictive power regarding syntax, semantics, and ontologies inherent in human language corpora, but they also inherit inaccuracies and biases present in the data they are trained in.\n",
      "\n",
      "\n",
      "\n",
      "Page: List of large language models\n",
      "Summary: A large language model (LLM) is a type of machine learning model designed for natural language processing tasks such as language generation. LLMs are language models with many parameters, and are trained with self-supervised learning on a vast amount of text.\n",
      "This page lists notable large language models.\n",
      "For the training cost column, 1 petaFLOP-day = 1 petaFLOP/sec × 1 day = 8.64E19 FLOP. Also, only the largest model's cost is written.\n",
      "\n",
      "\u001b[0m\n",
      "Thought:\u001b[32;1m\u001b[1;3mThought: I now know that Llama is a family of large language models created by Meta AI.\n",
      "Final Answer: Llama is a family of large language models created by Meta AI. \n",
      "\u001b[0m\n",
      "\n",
      "\u001b[1m> Finished chain.\u001b[0m\n"
     ]
    },
    {
     "data": {
      "text/plain": [
       "'Llama is a family of large language models created by Meta AI.'"
      ]
     },
     "execution_count": 35,
     "metadata": {},
     "output_type": "execute_result"
    }
   ],
   "source": [
    "agent.run(\"what is llama and who create this llm model?\")"
   ]
  },
  {
   "cell_type": "code",
   "execution_count": 36,
   "metadata": {},
   "outputs": [],
   "source": [
    "from langchain_community.tools.tavily_search import TavilySearchResults"
   ]
  },
  {
   "cell_type": "code",
   "execution_count": 37,
   "metadata": {},
   "outputs": [],
   "source": [
    "search = TavilySearchResults()"
   ]
  },
  {
   "cell_type": "code",
   "execution_count": 38,
   "metadata": {},
   "outputs": [
    {
     "data": {
      "text/plain": [
       "[{'title': 'Weather in San Francisco',\n",
       "  'url': 'https://www.weatherapi.com/',\n",
       "  'content': \"{'location': {'name': 'San Francisco', 'region': 'California', 'country': 'United States of America', 'lat': 37.775, 'lon': -122.4183, 'tz_id': 'America/Los_Angeles', 'localtime_epoch': 1743577117, 'localtime': '2025-04-01 23:58'}, 'current': {'last_updated_epoch': 1743576300, 'last_updated': '2025-04-01 23:45', 'temp_c': 10.6, 'temp_f': 51.1, 'is_day': 0, 'condition': {'text': 'Partly cloudy', 'icon': '//cdn.weatherapi.com/weather/64x64/night/116.png', 'code': 1003}, 'wind_mph': 18.8, 'wind_kph': 30.2, 'wind_degree': 309, 'wind_dir': 'NW', 'pressure_mb': 1014.0, 'pressure_in': 29.93, 'precip_mm': 0.0, 'precip_in': 0.0, 'humidity': 68, 'cloud': 25, 'feelslike_c': 7.3, 'feelslike_f': 45.2, 'windchill_c': 6.9, 'windchill_f': 44.5, 'heatindex_c': 9.7, 'heatindex_f': 49.4, 'dewpoint_c': 7.1, 'dewpoint_f': 44.8, 'vis_km': 16.0, 'vis_miles': 9.0, 'uv': 0.0, 'gust_mph': 27.2, 'gust_kph': 43.7}}\",\n",
       "  'score': 0.8334503},\n",
       " {'title': 'February 2025 Weather History in San Francisco California, United ...',\n",
       "  'url': 'https://weatherspark.com/h/m/557/2025/2/Historical-Weather-in-February-2025-in-San-Francisco-California-United-States',\n",
       "  'content': 'Wed, Feb 5, 2025\\xa0\\xa0\\xa0\\xa022 min ago\\xa0\\xa0\\xa0\\xa0UTC 22:56\\nCall Sign KSFO\\nTemp.\\n55.9\\n°F\\ncool\\nDew Pt. 41.0°F\\xa0\\xa0dry\\nRel. Humidity   57%\\nPrecipitation\\nNo Report\\nWind\\n5.8\\nmph\\nlight breeze\\nWind Dir.   10 deg, N\\nCloud Cover\\nMostly Clear 3,500 ft\\nVis.    10.00 mi or greater\\nAlt.    30.09 inHg\\nRaw: KSFO 052256Z 01005KT 10SM FEW035 13/05 A3009 RMK AO2 SLP188 T01330050 [...] comfortable\\n60°F\\nhumid\\n65°F\\nmuggy\\n70°F\\noppressive\\n75°F\\nmiserable\\nThe hourly reported humidity comfort level, categorized by dew point. The shaded overlays indicate night and civil twilight.\\nWind Speed in February 2025 in San Francisco\\n Winter 2025\\nLink\\nDownload\\nCompare\\nAverages\\nHistory:\\nJ\\nFeb\\nM\\nA\\nM\\nJ\\nJ\\nA\\nS\\nO\\nN\\nD\\n2024\\n2023\\n2022\\n2021\\n1\\n8\\n15\\n22\\n1\\n1\\n2\\n2\\n3\\n3\\n4\\n4\\n5\\n5\\n0 mph\\n0 mph\\n10 mph\\n10 mph\\n20 mph\\n20 mph\\n30 mph\\n30 mph\\n40 mph\\n40 mph\\n50 mph\\n50 mph\\nJan\\nMar\\nNow\\nNow [...] 2%  6:11 AM ESE 4:44 PM WSW -   11:27 AM    S   229,455 mi\\n27\\n    0%  6:42 AM ESE 5:58 PM WSW -   12:19 PM    S   226,959 mi\\n28\\n    1%  7:10 AM E   7:12 PM W   -   1:09 PM S   225,413 mi\\nHumidity Comfort Levels in February 2025 in San Francisco\\n Winter 2025\\nLink\\nDownload\\nCompare\\nAverages\\nHistory:\\nJ\\nFeb\\nM\\nA\\nM\\nJ\\nJ\\nA\\nS\\nO\\nN\\nD\\n2024\\n2023\\n2022\\n2021\\n1\\n8\\n15\\n22\\n1\\n1\\n2\\n2\\n3\\n3\\n4\\n4\\n5\\n5\\n12 AM\\n12 AM\\n3 AM\\n3 AM\\n6 AM\\n6 AM\\n9 AM\\n9 AM\\n12 PM\\n12 PM\\n3 PM\\n3 PM\\n6 PM\\n6 PM\\n9 PM\\n9 PM\\n12 AM\\n12 AM\\nJan\\nMar\\nNow\\nNow\\ndry\\n55°F',\n",
       "  'score': 0.82994765},\n",
       " {'title': 'Tuesday morning First Alert Weather forecast 2/4/25 - CBS News',\n",
       "  'url': 'https://www.cbsnews.com/sanfrancisco/video/tuesday-morning-first-alert-weather-forecast-2425/',\n",
       "  'content': 'San Francisco 49ers · San Francisco Giants · Golden State Warriors ... Tuesday morning First Alert Weather forecast 2/4/25. Meteorologist',\n",
       "  'score': 0.5835125},\n",
       " {'title': 'San Francisco, CA Hourly Weather Forecast',\n",
       "  'url': 'https://www.wunderground.com/hourly/us/ca/san-francisco',\n",
       "  'content': '© Copyright TWC Product and Technology LLC 2014, 2025\\nThe time period when the sun is no more than 6 degrees below the horizon at either sunrise or sunset. The horizon should be clearly defined and the brightest stars should be visible under good atmospheric conditions (i.e. no moonlight, or other lights). One still should be able to carry on ordinary outdoor activities.',\n",
       "  'score': 0.5815176},\n",
       " {'title': 'Wind Advisory issued February 4 at 12:55AM PST until ... - KION546',\n",
       "  'url': 'https://kion546.com/weather-authority/alerts-weather-authority/2025/02/04/wind-advisory-issued-february-4-at-1255am-pst-until-february-4-at-1100pm-pst-by-nws-san-francisco-ca/',\n",
       "  'content': 'South winds 20 to 30 mph with gusts up to 60 mph expected. Where: The East Bay and San Francisco Bay Shoreline, The Central Coast, The Santa Clara Valley and',\n",
       "  'score': 0.5585443}]"
      ]
     },
     "execution_count": 38,
     "metadata": {},
     "output_type": "execute_result"
    }
   ],
   "source": [
    "search.invoke(\"what is the weather in SF\")"
   ]
  },
  {
   "cell_type": "code",
   "execution_count": 39,
   "metadata": {},
   "outputs": [],
   "source": [
    "tools = [search]"
   ]
  },
  {
   "cell_type": "code",
   "execution_count": 40,
   "metadata": {},
   "outputs": [],
   "source": [
    "from langchain import hub"
   ]
  },
  {
   "cell_type": "code",
   "execution_count": 41,
   "metadata": {},
   "outputs": [],
   "source": [
    "prompt=hub.pull(\"hwchase17/openai-functions-agent\")"
   ]
  },
  {
   "cell_type": "code",
   "execution_count": 42,
   "metadata": {},
   "outputs": [
    {
     "data": {
      "text/plain": [
       "ChatPromptTemplate(input_variables=['agent_scratchpad', 'input'], optional_variables=['chat_history'], input_types={'chat_history': list[typing.Annotated[typing.Union[typing.Annotated[langchain_core.messages.ai.AIMessage, Tag(tag='ai')], typing.Annotated[langchain_core.messages.human.HumanMessage, Tag(tag='human')], typing.Annotated[langchain_core.messages.chat.ChatMessage, Tag(tag='chat')], typing.Annotated[langchain_core.messages.system.SystemMessage, Tag(tag='system')], typing.Annotated[langchain_core.messages.function.FunctionMessage, Tag(tag='function')], typing.Annotated[langchain_core.messages.tool.ToolMessage, Tag(tag='tool')], typing.Annotated[langchain_core.messages.ai.AIMessageChunk, Tag(tag='AIMessageChunk')], typing.Annotated[langchain_core.messages.human.HumanMessageChunk, Tag(tag='HumanMessageChunk')], typing.Annotated[langchain_core.messages.chat.ChatMessageChunk, Tag(tag='ChatMessageChunk')], typing.Annotated[langchain_core.messages.system.SystemMessageChunk, Tag(tag='SystemMessageChunk')], typing.Annotated[langchain_core.messages.function.FunctionMessageChunk, Tag(tag='FunctionMessageChunk')], typing.Annotated[langchain_core.messages.tool.ToolMessageChunk, Tag(tag='ToolMessageChunk')]], FieldInfo(annotation=NoneType, required=True, discriminator=Discriminator(discriminator=<function _get_type at 0x000001D980E9B560>, custom_error_type=None, custom_error_message=None, custom_error_context=None))]], 'agent_scratchpad': list[typing.Annotated[typing.Union[typing.Annotated[langchain_core.messages.ai.AIMessage, Tag(tag='ai')], typing.Annotated[langchain_core.messages.human.HumanMessage, Tag(tag='human')], typing.Annotated[langchain_core.messages.chat.ChatMessage, Tag(tag='chat')], typing.Annotated[langchain_core.messages.system.SystemMessage, Tag(tag='system')], typing.Annotated[langchain_core.messages.function.FunctionMessage, Tag(tag='function')], typing.Annotated[langchain_core.messages.tool.ToolMessage, Tag(tag='tool')], typing.Annotated[langchain_core.messages.ai.AIMessageChunk, Tag(tag='AIMessageChunk')], typing.Annotated[langchain_core.messages.human.HumanMessageChunk, Tag(tag='HumanMessageChunk')], typing.Annotated[langchain_core.messages.chat.ChatMessageChunk, Tag(tag='ChatMessageChunk')], typing.Annotated[langchain_core.messages.system.SystemMessageChunk, Tag(tag='SystemMessageChunk')], typing.Annotated[langchain_core.messages.function.FunctionMessageChunk, Tag(tag='FunctionMessageChunk')], typing.Annotated[langchain_core.messages.tool.ToolMessageChunk, Tag(tag='ToolMessageChunk')]], FieldInfo(annotation=NoneType, required=True, discriminator=Discriminator(discriminator=<function _get_type at 0x000001D980E9B560>, custom_error_type=None, custom_error_message=None, custom_error_context=None))]]}, partial_variables={'chat_history': []}, metadata={'lc_hub_owner': 'hwchase17', 'lc_hub_repo': 'openai-functions-agent', 'lc_hub_commit_hash': 'a1655024b06afbd95d17449f21316291e0726f13dcfaf990cc0d18087ad689a5'}, messages=[SystemMessagePromptTemplate(prompt=PromptTemplate(input_variables=[], input_types={}, partial_variables={}, template='You are a helpful assistant'), additional_kwargs={}), MessagesPlaceholder(variable_name='chat_history', optional=True), HumanMessagePromptTemplate(prompt=PromptTemplate(input_variables=['input'], input_types={}, partial_variables={}, template='{input}'), additional_kwargs={}), MessagesPlaceholder(variable_name='agent_scratchpad')])"
      ]
     },
     "execution_count": 42,
     "metadata": {},
     "output_type": "execute_result"
    }
   ],
   "source": [
    "prompt"
   ]
  },
  {
   "cell_type": "code",
   "execution_count": 43,
   "metadata": {},
   "outputs": [],
   "source": [
    "from langchain.agents import create_tool_calling_agent\n",
    "agent = create_tool_calling_agent(llm, tools, prompt)"
   ]
  },
  {
   "cell_type": "code",
   "execution_count": 44,
   "metadata": {},
   "outputs": [],
   "source": [
    "from langchain.agents import AgentExecutor\n",
    "agent_executor = AgentExecutor(agent=agent, tools=tools, verbose=True)"
   ]
  },
  {
   "cell_type": "code",
   "execution_count": 46,
   "metadata": {},
   "outputs": [
    {
     "name": "stdout",
     "output_type": "stream",
     "text": [
      "\n",
      "\n",
      "\u001b[1m> Entering new AgentExecutor chain...\u001b[0m\n",
      "\u001b[32;1m\u001b[1;3m\n",
      "Invoking: `tavily_search_results_json` with `{'query': 'What is the current GDP of India'}`\n",
      "\n",
      "\n",
      "\u001b[0m\u001b[36;1m\u001b[1;3m[{'title': 'India GDP - Worldometer', 'url': 'https://www.worldometers.info/gdp/india-gdp/', 'content': 'Population\\nMore \\nWGDPGDP by Country India GDP\\n India GDP\\nGDP nominal (2022)\\n$3,385,090,000,000\\n(Current US Dollars). Sources include: World Bank, United Nations.\\nGDP growth rate (2022)\\n7.00% \\nNominal (current) Gross Domestic Product (GDP) of India is $3,385,090,000,000 (USD) as of 2022.\\nReal GDP (constant, inflation adjusted) of India reached $2,432,020,000,000 in 2022. [...] GDP Growth Rate in 2022 was 7.00%, representing a change of 193,390,000,000 US$ over 2021, when Real GDP was $2,761,590,000,000.\\nGDP per Capita in India (with a population of 1,425,423,212 people) was $2,073 in 2022, an increase of $120 from $1,953 in 2021; this represents a change of 6.2% in GDP per capita.\\nCountryContinentWorld\\nIndia GDP (Nominal, $USD) 2003-2022\\nGDP change (%)\\nGross Domestic Product (GDP) of India\\nYear    GDP Nominal\\n(Current USD)   GDP Real\\n(Inflation adj.)    GDP [...] 2017    $2,651,470,000,000  $2,432,020,000,000  6.80%   $1,789  1.17 %  1,359,657,400\\n2016    $2,294,800,000,000  $2,277,270,000,000  8.26%   $1,694  1.20 %  1,343,944,296\\n2015    $2,103,590,000,000  $2,103,590,000,000  8.00%   $1,584  1.20 %  1,328,024,498\\n2014    $2,039,130,000,000  $1,947,830,000,000  7.41%   $1,484  1.27 %  1,312,277,191\\n2013    $1,856,720,000,000  $1,813,450,000,000  6.39%   $1,399  1.34 %  1,295,829,511', 'score': 0.9170729}, {'title': \"At $4.3 Trillion, India's GDP Doubles In 10 Years, Outpaces ... - NDTV\", 'url': 'https://www.ndtv.com/world-news/at-4-3-trillion-indias-gdp-doubles-in-10-years-outpaces-world-with-105-rise-8010530', 'content': \"According to the IMF, India's GDP currently stands at $4.3 trillion. It was $2.1 trillion in 2015, when Narendra Modi's first term as prime minister was less than a year in office. Since then, India has more than doubled its economy in terms of Gross Domestic Product or GDP. [...] India is on the cusp of overtaking Japan as the fourth-largest economy in the world. Japan's GDP currently stand at $4.4 trillion and India is poised to go past that mark by the third quarter of 2025. Should the average rate of growth continue the way it is, India will surpass Germany - the 3rd-largest economy globally - by the 2nd quarter of in 2027. Germany's GDP currently stands at $4.9 trillion. [...] At $4.3 Trillion, India's GDP Doubles In 10 Years, Outpaces World With 105% Rise\\n\\nIndian Economy in 2025: India has outpaced all the nations in the G7, the G20, and the BRICS by more than doubling its size of economy.\\n\\nIndia has been the fastest growing major economy in the world for the last ten years, with the latest data from the International Monetary Fund or IMF showing a staggering 105 per cent growth in the last decade.\", 'score': 0.9163571}, {'title': 'India GDP - Trading Economics', 'url': 'https://tradingeconomics.com/india/gdp', 'content': 'The Gross Domestic Product (GDP) in India was worth 3549.92 billion US dollars in 2023, according to official data from the World Bank. The GDP value of India represents 3.37 percent of the world economy. source: World Bank [...] GDP in India averaged 785.13 USD Billion from 1960 until 2023, reaching an all time high of 3549.92 USD Billion in 2023 and a record low of 37.03 USD Billion in 1960. This page provides the latest reported value for - India GDP - plus previous releases, historical high and low, short-term forecast and long-term prediction, economic calendar, survey consensus and news. India GDP - values, historical data and charts - was last updated on February of 2025. [...] | GDP | 3549.92 | 3353.47 | USD Billion | Dec 2023 |\\n| GDP Growth Rate YoY | 5.40 | 6.70 | percent | Sep 2024 |\\n| GDP Growth Rate | 1.10 | 1.10 | percent | Sep 2024 |\\n| GDP per Capita | 2239.25 | 2098.22 | USD | Dec 2023 |\\n| GDP per Capita PPP | 9172.10 | 8594.43 | USD | Dec 2023 |', 'score': 0.87681407}, {'title': \"GDP Of India: Current And Historical Growth Rate, India's Rank In ...\", 'url': 'https://www.forbesindia.com/article/explainers/gdp-india/85337/1', 'content': 'India\\'s Current GDP (FY24): $3.9 trillion\\nIndia\\'s GDP Growth Rate (FY24): 8.2% [...] In the last quarter of FY24, India\\'s GDP grew by 8.2 percent, ₹47.24 lakh crore, according to the data released by the Ministry of Statistics and Programme Implementation and the National Statistical Office. It was better than NSO\\'s earlier estimates for real GDP growth for FY24 at 7.3 percent. \"Nominal GDP has witnessed a growth rate of 9.6 percent in FY24 over the growth rate of 14.2 percent in FY23,” the NSO said. [...] GDP Statistics\\n| Financial Year | GDP | GDP Per Capita (Nominal) | Real GDP (% Change |\\n| --- | --- | --- | --- |\\n| 2024\\n | $3,940.00B* | $2,730 | 7% (Projected)\\n |\\n| 2023\\n | $3,737.00B | $2,610 | 7.2% |\\n| 2022 | $3,385.09B | $2,389 | 7.00% |\\n| 2021 | $3,150.31B | $2,238 | 9.05% |\\n| 2020 | $2,671.60B | $1,913 | -5.83% |\\n| 2019 | $2,835.61B | $2,050 | 3.87% |\\n| 2018 | $2,702.93B | $1,974 | 6.45% |\\n| 2017 | $2,651.47B | $1,958 | 6.80% |\\n| 2016 | $2,294.80B | $1,714 | 8.26% |', 'score': 0.8624794}, {'title': 'GDP of India 1987-2029 - Statista', 'url': 'https://www.statista.com/statistics/263771/gross-domestic-product-gdp-in-india/', 'content': 'Gross domestic product (GDP) in India 2029\\nPublished by\\nAaron O\\'Neill,\\nJan 10, 2025\\nThe statistic shows GDP in India from 1987 to 2023, with projections up until 2029. In 2023, GDP in India was at around 3.57 trillion U.S. dollars, and it is expected to reach six trillion by the end of the decade. See figures on\\xa0India\\'s economic growth here, and the Russian GDP for comparison.  \\nHistorical development of the Indian economy [...] Read more\\nIndia: Gross domestic product (GDP) in current prices from 1987 to 2029 (in billion U.S. dollars)\\ntable column chart\\n| Characteristic | GDP in billion U.S. dollars |\\n| --- | --- |\\n| 2029* | 6,307.19 |\\n| 2028* | 5,723.29 |\\n| 2027* | 5,193.51 |\\n| 2026* | 4,710.37 |\\n| 2025* | 4,271.92 |\\n| 2024 | 3,889.13 |\\n| 2023 | 3,567.55 |\\n| 2022 | 3,353.47 |\\n| 2021 | 3,167.27 |\\n| 2020 | 2,674.85 |\\n| 2019 | 2,835.61 |\\n| 2018 | 2,702.93 |\\n| 2017 | 2,651.47 |\\n| 2016 | 2,294.8 |\\n| 2015 | 2,103.59 | [...] IMF. \"India: Gross domestic product (GDP) in current prices from 1987 to 2029 (in billion U.S. dollars).\" Chart. October 10, 2024. Statista. Accessed February 08, 2025. https://www.statista.com/statistics/263771/gross-domestic-product-gdp-in-india/\\nIMF. (2024). India: Gross domestic product (GDP) in current prices from 1987 to 2029 (in billion U.S. dollars). Statista. Statista Inc.. Accessed: February 08, 2025. https://www.statista.com/statistics/263771/gross-domestic-product-gdp-in-india/', 'score': 0.8184036}]\u001b[0m\u001b[32;1m\u001b[1;3m\n",
      "Invoking: `tavily_search_results_json` with `{'query': 'What is the GDP of India in USD'}`\n",
      "\n",
      "\n",
      "\u001b[0m\u001b[36;1m\u001b[1;3m[{'title': 'India GDP - Trading Economics', 'url': 'https://tradingeconomics.com/india/gdp', 'content': 'The Gross Domestic Product (GDP) in India was worth 3549.92 billion US dollars in 2023, according to official data from the World Bank. The GDP value of India represents 3.37 percent of the world economy. source: World Bank [...] GDP in India averaged 785.13 USD Billion from 1960 until 2023, reaching an all time high of 3549.92 USD Billion in 2023 and a record low of 37.03 USD Billion in 1960. This page provides the latest reported value for - India GDP - plus previous releases, historical high and low, short-term forecast and long-term prediction, economic calendar, survey consensus and news. India GDP - values, historical data and charts - was last updated on February of 2025. [...] GDP in India is expected to reach 3781.00 USD Billion by the end of 2025, according to Trading Economics global macro models and analysts expectations. In the long-term, the India GDP is projected to trend around 4015.00 USD Billion in 2026 and 4264.00 USD Billion in 2027, according to our econometric models.\\n| Related | Last | Previous | Unit | Reference |\\n| --- | --- | --- | --- | --- |\\n| Fiscal Year GDP Growth | 6.40 | 8.20 | percent | Mar 2025 |', 'score': 0.92392945}, {'title': 'India GDP per capita (USD) - FocusEconomics', 'url': 'https://www.focus-economics.com/country-indicator/india/gdp-per-capita-usd/', 'content': 'India had a GDP per capita of USD 2,393 in 2022, compared to USD 1,440 a decade earlier. This compares to the average for the Asia-Pacific region of USD 8,369. For more GDP per capita information, visit our dedicated page.\\n\\nIndia GDP Per Capita Chart\\n\\nNote: This chart displays GDP per capita (USD) for India from 2022 to 2014.Source: Macrobond.\\n\\nIndia GDP Per Capita Data\\n\\n | 2020 | 2021 | 2022 | 2023 | 2024\\nGDP per capita(USD) | 1,915 | 2,250 | 2,362 | 2,547 | -\\nFree sample report', 'score': 0.8909888}, {'title': 'India Real GDP 2024 Estimate and 2025 Projection', 'url': 'https://www.worldeconomics.com/GrossDomesticProduct/Real-GDP/India.aspx', 'content': \"Most popular:\\n\\nAsia - Pacific\\n\\nAmericas\\n\\nEurope\\n\\nAfrica\\n\\nIndia GDP: $3.425 Trillion\\n\\nIndia GDP Forecast: $3.425 Trillion in 2024, $3.648 Trillion projected for 2025 (Constant 2015 Prices).\\n\\nGDP in India is estimated to be $3.425 Trillion US dollars at the end of 2024 in Real GDP terms.\\n\\nLooking ahead to 2025, projections suggest India's 2025 GDP estimate could be $3.648 Trillion. This India GDP growth forecast for 2024 and 2025 reflects an estimated growth rate of 6.5%. [...] The economy of India has grown at an average annual growth rate of 13.6% in the last four years and is ranked the 2nd largest economy in Asia-Pacific, ahead of Japan.\\n\\nReal GDP (US$): India\\n\\nEconomic Indicators: India | 2021 | 2022 | 2023 | 2024\\nReal GDP(US$ Billions, 2010) | 2,779 | 2,974 | 3,216 | 3,425\\nReal GDP per Capita(US$, 2010) | 1,965 | 2,086 | 2,236 | 2,382\\n\\nCurrent GDP(Billions, US$) | 3,167 | 3,353 | 3,568 | 3,799\\nCurrent GDP per Capita(US$) | 2,240 | 2,353 | 2,481 | 2,642 [...] Real GDP PPP(Billions, 2017) | 11,323 | 12,207 | 13,163 | 14,018\\nReal GDP per Capita PPP(int$ 2017) | 6,659 | 7,048 | 7,406 | 8,103\\n\\nGDP Annual Growth Rate(%) | 9.7 | 7.0 | 8.2 | 6.5\\nGDP per Capita Annual Growth Rate(%) | 8.8 | 6.1 | 7.2 | 6.5\\n\\nData Quality Rating for India | See how much you can trust India's GDP Data\\nShare this Report\\n\\nRelated Reports\\n\\nAbout World Economics\\n\\nDiscover\\n\\nGet in touch\", 'score': 0.87681407}, {'title': 'GDP of India 1987-2029 - Statista', 'url': 'https://www.statista.com/statistics/263771/gross-domestic-product-gdp-in-india/', 'content': \"Gross domestic product (GDP) in India 2029\\nPublished by\\nAaron O'Neill,\\nJan 10, 2025\\nThe statistic shows GDP in India from 1987 to 2023, with projections up until 2029. In 2023, GDP in India was at around 3.57 trillion U.S. dollars, and it is expected to reach six trillion by the end of the decade. See figures on\\xa0India's economic growth here, and the Russian GDP for comparison.  \\nHistorical development of the Indian economy [...] Read more\\nIndia: Gross domestic product (GDP) in current prices from 1987 to 2029 (in billion U.S. dollars)\\ntable column chart\\n| Characteristic | GDP in billion U.S. dollars |\\n| --- | --- |\\n| 2029* | 6,307.19 |\\n| 2028* | 5,723.29 |\\n| 2027* | 5,193.51 |\\n| 2026* | 4,710.37 |\\n| 2025* | 4,271.92 |\\n| 2024 | 3,889.13 |\\n| 2023 | 3,567.55 |\\n| 2022 | 3,353.47 |\\n| 2021 | 3,167.27 |\\n| 2020 | 2,674.85 |\\n| 2019 | 2,835.61 |\\n| 2018 | 2,702.93 |\\n| 2017 | 2,651.47 |\\n| 2016 | 2,294.8 |\\n| 2015 | 2,103.59 | [...] 1 All prices do not include sales tax. The account requires an annual contract and will renew after one year to the regular list price.\\nCompare accounts\\nLearn more about how Statista can support your business.\\nRequest webinar\\nIMF. (October 10, 2024). India: Gross domestic product (GDP) in current prices from 1987 to 2029 (in billion U.S. dollars) [Graph]. In Statista. Retrieved February 08, 2025, from https://www.statista.com/statistics/263771/gross-domestic-product-gdp-in-india/\", 'score': 0.8687491}, {'title': 'India GDP 1960-2025 | MacroTrends', 'url': 'https://www.macrotrends.net/global-metrics/countries/ind/india/gdp-gross-domestic-product', 'content': 'Download Historical Data\\xa0\\xa0 \\xa0\\xa0Save as Image\\nData Source: World Bank \\nMLA Citation: \\n| Similar Country Ranking |\\n| --- |\\n| Country Name | GDP ( Billions of US $) |\\n| --- | --- |\\n| India | $3,549.92B |\\n| Indonesia | $1,371.17B |\\n| Bangladesh | $437.42B |\\n| Philippines | $437.15B |\\n| Vietnam | $429.72B |\\n| Egypt | $395.93B |\\n| Nigeria | $362.81B |\\n| Pakistan | $338.37B |\\n| Ukraine | $178.76B |\\n| Morocco | $141.11B |\\n| Sudan | $109.33B |\\n| Kenya | $107.44B |\\n| Uzbekistan | $90.89B | [...] India gdp for 2023 was $3,549.92B, a 5.86% increase from 2022.\\nIndia gdp for 2022 was $3,353.47B, a 5.88% increase from 2021.\\nIndia gdp for 2021 was $3,167.27B, a 18.41% increase from 2020.\\nIndia gdp for 2020 was $2,674.85B, a 5.67% decline from 2019.', 'score': 0.82048416}]\u001b[0m\u001b[32;1m\u001b[1;3m\n",
      "\u001b[0m\n",
      "\n",
      "\u001b[1m> Finished chain.\u001b[0m\n"
     ]
    },
    {
     "data": {
      "text/plain": [
       "{'input': 'What is the corrent GDP of India', 'output': '\\n'}"
      ]
     },
     "execution_count": 46,
     "metadata": {},
     "output_type": "execute_result"
    }
   ],
   "source": [
    "agent_executor.invoke({\"input\": \"What is the corrent GDP of India\"})"
   ]
  },
  {
   "cell_type": "code",
   "execution_count": 49,
   "metadata": {},
   "outputs": [
    {
     "name": "stdout",
     "output_type": "stream",
     "text": [
      "\n",
      "\n",
      "\u001b[1m> Entering new AgentExecutor chain...\u001b[0m\n",
      "\u001b[32;1m\u001b[1;3m\n",
      "Invoking: `tavily_search_results_json` with `{'query': 'weather in san francisco'}`\n",
      "\n",
      "\n",
      "\u001b[0m\u001b[36;1m\u001b[1;3m[{'title': 'Wednesday, April 2, 2025. San Francisco, CA - Weather Forecast', 'url': 'https://weathershogun.com/weather/usa/ca/san-francisco/480/april/2025-04-02', 'content': 'San Francisco, California Weather: Wednesday, April 2, 2025. Cloudy weather, overcast skies with clouds. Day 55°. Night 50°. Precipitation 1 %.', 'score': 0.96039474}, {'title': 'Weather in San Francisco in April 2025 (California)', 'url': 'https://world-weather.info/forecast/usa/san_francisco/april-2025/', 'content': \"Weather in San Francisco in April 2025 (California) - Detailed Weather Forecast for a Month Weather in San Francisco Weather in San Francisco in April 2025 1 +54°+50° 2 +55°+46° 3 +57°+46° 4 +61°+46° 5 +64°+50° 6 +63°+52° 7 +59°+52° 8 +63°+50° 9 +66°+50° 10 +68°+52° 11 +64°+54° 12 +61°+52° 13 +61°+52° 14 +57°+55° 15 +59°+52° 16 +61°+52° +61°+52° +63°+54° +63°+54° +63°+54° +64°+54° +63°+54° +63°+54° +63°+54° +63°+54° +64°+54° +64°+54° +64°+54° +63°+54° +63°+54° Extended weather forecast in San Francisco HourlyWeek10-Day14-Day30-DayYear Weather in Washington, D.C.+55° Sacramento+59° Pleasanton+55° Redwood City+55° San Leandro+55° San Mateo+55° San Rafael+54° San Ramon+55° South San Francisco+55° Vallejo+55° Pacifica+52° Berkeley+55° Concord+57° Daly City+54° Corliss+57° world's temperature today day day Weather forecast on your site Install San Francisco+55° Temperature units\", 'score': 0.92620385}, {'title': 'Weather San Francisco in April 2025: Temperature & Climate', 'url': 'https://en.climate-data.org/north-america/united-states-of-america/california/san-francisco-385/t/april-4/', 'content': 'Weather San Francisco · 1. April, Moderate rain, 14 °C 57.2 °F 9 °C 48.2 °F · 2. April, Heavy rain, 14 °C 57.2 °F 12 °C 53.6 °F · 3. April, Light shower rain, 13', 'score': 0.9227683}, {'title': 'San Francisco weather in April 2025 | Weather25.com', 'url': 'https://www.weather25.com/north-america/usa/california/san-francisco?page=month&month=April', 'content': 'San Francisco weather in April 2025\\n\\nThe average weather in San Francisco in April\\n\\nThe temperatures in San Francisco in April are quite cold with temperatures between 9°C and 18°C, warm clothes are a must.\\n\\nThe wather in San Francisco in April can vary between cold and nice weather days. Expect a few rainy days but usually not more than 3.\\n\\nOur weather forecast can give you a great sense of what weather to expect in San Francisco in April 2025. [...] Sun | Mon | Tue | Wed | Thu | Fri | Sat\\n |  | 112°/9° | 213°/8° | 312°/8° | 413°/9° | 518°/11°\\n617°/12° | 715°/11° | 816°/11° | 919°/12° | 1018°/12° | 1120°/13° | 1215°/12°\\n1315°/8° | 1415°/9° | 1516°/9° | 1617°/9° | 1716°/9° | 1816°/10° | 1916°/10°\\n2016°/9° | 2117°/10° | 2217°/10° | 2317°/10° | 2417°/10° | 2516°/10° | 2618°/10°\\n2719°/10° | 2819°/11° | 2918°/11° | 3017°/10° |  |  | \\nExplore the weather in San Francisco in other months\\n\\nSan Francisco annual weather [...] June | 23°/12° | 0 | 30 | 0 | 6mm | Perfect | San Francisco in June\\nJuly | 25°/14° | 0 | 31 | 0 | 3mm | Perfect | San Francisco in July\\nAugust | 25°/14° | 0 | 31 | 0 | 3mm | Perfect | San Francisco in August\\nSeptember | 25°/14° | 0 | 30 | 0 | 4mm | Perfect | San Francisco in September\\nOctober | 23°/13° | 1 | 30 | 0 | 26mm | Perfect | San Francisco in October\\nNovember | 18°/10° | 3 | 27 | 0 | 37mm | Good | San Francisco in November', 'score': 0.90102744}, {'title': 'San Francisco weather in April 2025 | California, USA', 'url': 'https://www.weather2travel.com/california/san-francisco/april/', 'content': 'San Francisco weather in April 2025. Expect daytime maximum temperatures of 17°C in San Francisco, California in April based on long-term weather averages.', 'score': 0.8893851}]\u001b[0m\u001b[32;1m\u001b[1;3m\n",
      "Invoking: `tavily_search_results_json` with `{'query': 'what is the weather in santa clara today'}`\n",
      "\n",
      "\n",
      "\u001b[0m\u001b[36;1m\u001b[1;3m[{'title': 'Weather in santa clara', 'url': 'https://www.weatherapi.com/', 'content': \"{'location': {'name': 'Santa Clara', 'region': 'Villa Clara', 'country': 'Cuba', 'lat': 22.1667, 'lon': -79.7667, 'tz_id': 'America/Havana', 'localtime_epoch': 1743577476, 'localtime': '2025-04-02 03:04'}, 'current': {'last_updated_epoch': 1743577200, 'last_updated': '2025-04-02 03:00', 'temp_c': 22.5, 'temp_f': 72.6, 'is_day': 0, 'condition': {'text': 'Mist', 'icon': '//cdn.weatherapi.com/weather/64x64/night/143.png', 'code': 1030}, 'wind_mph': 3.8, 'wind_kph': 6.1, 'wind_degree': 89, 'wind_dir': 'E', 'pressure_mb': 1016.0, 'pressure_in': 30.01, 'precip_mm': 0.0, 'precip_in': 0.0, 'humidity': 97, 'cloud': 79, 'feelslike_c': 25.0, 'feelslike_f': 77.0, 'windchill_c': 22.5, 'windchill_f': 72.6, 'heatindex_c': 25.0, 'heatindex_f': 77.0, 'dewpoint_c': 20.7, 'dewpoint_f': 69.3, 'vis_km': 0.7, 'vis_miles': 0.0, 'uv': 0.0, 'gust_mph': 6.3, 'gust_kph': 10.1}}\", 'score': 0.9588822}, {'title': 'February 2025 Weather History in Santa Clara California, United ...', 'url': 'https://weatherspark.com/h/m/1101/2025/2/Historical-Weather-in-February-2025-in-Santa-Clara-California-United-States', 'content': 'PMW-1:07 PMS225,415 miHumidity Comfort Levels in February 2025 in Santa ClaraWinter 2025LinkDownloadCompareAveragesHistory:JFebMAMJJASOND2024202320222021Humidity Comfort Levels in February 2025 in Santa Clara181522112233445566778899101011111212131314141515161617171818191920202121222223232424252526262727282812 AM12 AM3 AM3 AM6 AM6 AM9 AM9 AM12 PM12 PM3 PM3 PM6 PM6 PM9 PM9 PM12 AM12 AMJanMardry55Â°Fcomfortable60Â°Fhumid65Â°Fmuggy70Â°Foppressive75Â°FmiserableThe hourly reported humidity comfort [...] 1Light Rain, Mist0.01 in-RA, BRMon, Feb 3Light Rain0.00 in-RATue, Feb 4Heavy Rain, Rain, Light Rain, Mist1.06 in+RA, RA, -RA, BRThu, Feb 6Heavy Rain, Rain, Light Rain, Mist0.40 in+RA, RA, -RA, BRFri, Feb 7Light Rain0.00 in-RASat, Feb 8MistBRTue, Feb 11Light Rain0.03 in-RAWed, Feb 12Rain, Light Rain, Mist0.41 inRA, -RA, BRThu, Feb 13Heavy Rain, Rain, Light Rain, Haze, Mist1.12 in+RA, RA, -RA, HZ, BRFri, Feb 14Light Rain, Mist0.07 in-RA, BRSat, Feb 15MistBRMon, Feb 24Fog, MistFG, BRTue, Feb [...] February 2025 in Santa ClaraWinter 2025LinkDownloadCompareAveragesHistory:JFebMAMJJASOND2024202320222021Hourly Temperature in February 2025 in Santa Clara181522112233445566778899101011111212131314141515161617171818191920202121222223232424252526262727282812 AM12 AM3 AM3 AM6 AM6 AM9 AM9 AM12 PM12 PM3 PM3 PM6 PM6 PM9 PM9 PM12 AM12 AMJanMarvery coldcoldcoolwarmfrigid15Â°Ffreezing32Â°Fvery cold45Â°Fcold55Â°Fcool65Â°Fcomfortable75Â°Fwarm85Â°Fhot95Â°FswelteringThe hourly reported temperature, color', 'score': 0.8846886}]\u001b[0m\u001b[32;1m\u001b[1;3m\n",
      "Invoking: `tavily_search_results_json` with `{'query': 'what is the weather in santa clara today'}`\n",
      "\n",
      "\n",
      "\u001b[0m\u001b[36;1m\u001b[1;3m[{'title': 'Weather in santa clara', 'url': 'https://www.weatherapi.com/', 'content': \"{'location': {'name': 'Santa Clara', 'region': 'Villa Clara', 'country': 'Cuba', 'lat': 22.1667, 'lon': -79.7667, 'tz_id': 'America/Havana', 'localtime_epoch': 1743577476, 'localtime': '2025-04-02 03:04'}, 'current': {'last_updated_epoch': 1743577200, 'last_updated': '2025-04-02 03:00', 'temp_c': 22.5, 'temp_f': 72.6, 'is_day': 0, 'condition': {'text': 'Mist', 'icon': '//cdn.weatherapi.com/weather/64x64/night/143.png', 'code': 1030}, 'wind_mph': 3.8, 'wind_kph': 6.1, 'wind_degree': 89, 'wind_dir': 'E', 'pressure_mb': 1016.0, 'pressure_in': 30.01, 'precip_mm': 0.0, 'precip_in': 0.0, 'humidity': 97, 'cloud': 79, 'feelslike_c': 25.0, 'feelslike_f': 77.0, 'windchill_c': 22.5, 'windchill_f': 72.6, 'heatindex_c': 25.0, 'heatindex_f': 77.0, 'dewpoint_c': 20.7, 'dewpoint_f': 69.3, 'vis_km': 0.7, 'vis_miles': 0.0, 'uv': 0.0, 'gust_mph': 6.3, 'gust_kph': 10.1}}\", 'score': 0.9588822}, {'title': 'February 2025 Weather History in Santa Clara California, United ...', 'url': 'https://weatherspark.com/h/m/1101/2025/2/Historical-Weather-in-February-2025-in-Santa-Clara-California-United-States', 'content': 'PMW-1:07 PMS225,415 miHumidity Comfort Levels in February 2025 in Santa ClaraWinter 2025LinkDownloadCompareAveragesHistory:JFebMAMJJASOND2024202320222021Humidity Comfort Levels in February 2025 in Santa Clara181522112233445566778899101011111212131314141515161617171818191920202121222223232424252526262727282812 AM12 AM3 AM3 AM6 AM6 AM9 AM9 AM12 PM12 PM3 PM3 PM6 PM6 PM9 PM9 PM12 AM12 AMJanMardry55Â°Fcomfortable60Â°Fhumid65Â°Fmuggy70Â°Foppressive75Â°FmiserableThe hourly reported humidity comfort [...] 1Light Rain, Mist0.01 in-RA, BRMon, Feb 3Light Rain0.00 in-RATue, Feb 4Heavy Rain, Rain, Light Rain, Mist1.06 in+RA, RA, -RA, BRThu, Feb 6Heavy Rain, Rain, Light Rain, Mist0.40 in+RA, RA, -RA, BRFri, Feb 7Light Rain0.00 in-RASat, Feb 8MistBRTue, Feb 11Light Rain0.03 in-RAWed, Feb 12Rain, Light Rain, Mist0.41 inRA, -RA, BRThu, Feb 13Heavy Rain, Rain, Light Rain, Haze, Mist1.12 in+RA, RA, -RA, HZ, BRFri, Feb 14Light Rain, Mist0.07 in-RA, BRSat, Feb 15MistBRMon, Feb 24Fog, MistFG, BRTue, Feb [...] February 2025 in Santa ClaraWinter 2025LinkDownloadCompareAveragesHistory:JFebMAMJJASOND2024202320222021Hourly Temperature in February 2025 in Santa Clara181522112233445566778899101011111212131314141515161617171818191920202121222223232424252526262727282812 AM12 AM3 AM3 AM6 AM6 AM9 AM9 AM12 PM12 PM3 PM3 PM6 PM6 PM9 PM9 PM12 AM12 AMJanMarvery coldcoldcoolwarmfrigid15Â°Ffreezing32Â°Fvery cold45Â°Fcold55Â°Fcool65Â°Fcomfortable75Â°Fwarm85Â°Fhot95Â°FswelteringThe hourly reported temperature, color', 'score': 0.8846886}]\u001b[0m\u001b[32;1m\u001b[1;3m\u001b[0m\n",
      "\n",
      "\u001b[1m> Finished chain.\u001b[0m\n",
      "{'input': 'whats the weather in sf?', 'output': ''}\n"
     ]
    }
   ],
   "source": [
    "\n",
    "print(agent_executor.invoke({\"input\": \"whats the weather in sf?\"}))"
   ]
  },
  {
   "cell_type": "code",
   "execution_count": null,
   "metadata": {},
   "outputs": [],
   "source": []
  }
 ],
 "metadata": {
  "kernelspec": {
   "display_name": "venv (3.12.5)",
   "language": "python",
   "name": "python3"
  },
  "language_info": {
   "codemirror_mode": {
    "name": "ipython",
    "version": 3
   },
   "file_extension": ".py",
   "mimetype": "text/x-python",
   "name": "python",
   "nbconvert_exporter": "python",
   "pygments_lexer": "ipython3",
   "version": "3.12.5"
  }
 },
 "nbformat": 4,
 "nbformat_minor": 2
}
